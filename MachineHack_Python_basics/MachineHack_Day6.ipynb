{
  "nbformat": 4,
  "nbformat_minor": 0,
  "metadata": {
    "colab": {
      "provenance": []
    },
    "kernelspec": {
      "name": "python3",
      "display_name": "Python 3"
    },
    "language_info": {
      "name": "python"
    }
  },
  "cells": [
    {
      "cell_type": "markdown",
      "source": [
        "\n",
        "\n",
        "30 Days of Python-MachineHack\n",
        "\n",
        "DAY 6 Sets and Tuples\n"
      ],
      "metadata": {
        "id": "HjaU8-wofkvt"
      }
    },
    {
      "cell_type": "markdown",
      "source": [
        "Python sets and tuples\n",
        "\n",
        "A set is an unordered set of unique objects. It is an inbuilt data structure for remembering a collection of related object while ensuring none is duplicated. Operations such as union, intersection and differences could be performed in sets. It is a dynamic data structure, just like a list and dictionary. Like dictionaries, sets are unordered, so the order of the data stored could not be assumed to be the same as it was appended.\n",
        "\n",
        "sets stores a collection of objects seperated from one another by commas and surrounded by curly braces. The fact that a set is enclosed in curly braces can often result in mistaking a set for a dictionary, which is also enclosed in curly braces.the key difference is using the colon character (:) in dictionaries to seperate keys from values. The colon never appears in set, only commas.\n",
        "\n",
        "syntax\n",
        "\n",
        "set = {}\n",
        "set()"
      ],
      "metadata": {
        "id": "05SSX9TsgUQL"
      }
    },
    {
      "cell_type": "code",
      "execution_count": null,
      "metadata": {
        "colab": {
          "base_uri": "https://localhost:8080/"
        },
        "id": "hnN3r8oxfdO_",
        "outputId": "375a06bb-7f47-47f8-b851-123a97475ea4"
      },
      "outputs": [
        {
          "output_type": "stream",
          "name": "stdout",
          "text": [
            "set created using curly braces:  {'o', 'a', 'u', 'i', 'e'} \n",
            "Set created using the function: {'o', 'a', 'u', 'i', 'e'}\n"
          ]
        }
      ],
      "source": [
        "#Example\n",
        "vowels_curl = {'a','e','i','o','o','u','u'}\n",
        "vowels_fun = set('aeiiiooouuu')\n",
        "print(\"set created using curly braces: \", vowels_curl,\n",
        "      \"\\nSet created using the function:\", vowels_fun)"
      ]
    },
    {
      "cell_type": "markdown",
      "source": [
        "Operations on sets\n",
        "\n",
        "Here are the frequently used operations\n",
        "\n",
        "Modifying a set\n",
        "\n",
        "Modification like adding and updating is possible since sets are mutable data types. However,since they are unordered, indexing has no meaning. Therefore,the elements of a set are not accessible. therefore, changing an element of a set using indexing or slicing is impossible.\n",
        "\n",
        "A single element is added using the add() function; similarly, by using the update() function, multiple updates could be done to several components. The update() function can accept arguments, tuples , lists , strings , or other collection. Duplicates are avoided in all circumstances.\n",
        "\n",
        "Syntax\n",
        "\n",
        "set.add()\n",
        "\n",
        "set.update()"
      ],
      "metadata": {
        "id": "dW_itZxYFbE8"
      }
    },
    {
      "cell_type": "code",
      "source": [
        "#Example\n",
        "vowels_fun.add('z')\n",
        "print(\"adding element to the set : \", vowels_fun)\n",
        "vowels_fun.update(['b','c'],{'d','f','g'})\n",
        "print(\"Updateing by passing different data type argument:\", vowels_fun)"
      ],
      "metadata": {
        "colab": {
          "base_uri": "https://localhost:8080/"
        },
        "id": "lY46VRKFFJtz",
        "outputId": "65306064-dfe4-4204-b9ba-8e5ced740624"
      },
      "execution_count": null,
      "outputs": [
        {
          "output_type": "stream",
          "name": "stdout",
          "text": [
            "adding element to the set :  {'o', 'a', 'u', 'z', 'i', 'e'}\n",
            "Updateing by passing different data type argument: {'o', 'a', 'c', 'f', 'b', 'u', 'g', 'z', 'i', 'e', 'd'}\n"
          ]
        }
      ]
    },
    {
      "cell_type": "markdown",
      "source": [
        "Removing an element\n",
        "\n",
        "To remove a specific element from the set in built function, discard() and remove() could be implemented. the primary difference between these functions is with the execution when an element is not present in the set. The discard leaves the set unchanged, but the remove raises a key error.\n",
        "\n",
        "syntax\n",
        "\n",
        "set.remove(elemnt)\n",
        "\n",
        "set.discard(element)"
      ],
      "metadata": {
        "id": "7l1H9_moH2g3"
      }
    },
    {
      "cell_type": "code",
      "source": [
        "#Example\n",
        "vowels_fun = {'i', 'c', 'e', 'b', 'g', 'a', 'z', 'd', 'u', 'f', 'o'}\n",
        "vowels_fun.remove('f')\n",
        "print(\"Using remove:\", vowels_fun)\n",
        "vowels_fun.discard('c')\n",
        "print(\"Discard remove:\", vowels_fun)"
      ],
      "metadata": {
        "colab": {
          "base_uri": "https://localhost:8080/"
        },
        "id": "ax3kbHnEHpy6",
        "outputId": "053a1b66-83bb-496a-bcdb-fa07c8073532"
      },
      "execution_count": null,
      "outputs": [
        {
          "output_type": "stream",
          "name": "stdout",
          "text": [
            "Using remove: {'o', 'a', 'c', 'b', 'g', 'u', 'z', 'i', 'e', 'd'}\n",
            "Discard remove: {'o', 'a', 'b', 'g', 'u', 'z', 'i', 'e', 'd'}\n"
          ]
        }
      ]
    },
    {
      "cell_type": "code",
      "source": [
        "vowels_fun.remove(1)\n",
        "print(\"Using remove when element is not present :\",vowels_fun)"
      ],
      "metadata": {
        "colab": {
          "base_uri": "https://localhost:8080/",
          "height": 194
        },
        "id": "4WAYw1sGJZum",
        "outputId": "07bb3209-bfd2-4585-e26e-a74b9866e1d9"
      },
      "execution_count": null,
      "outputs": [
        {
          "output_type": "error",
          "ename": "KeyError",
          "evalue": "ignored",
          "traceback": [
            "\u001b[0;31m---------------------------------------------------------------------------\u001b[0m",
            "\u001b[0;31mKeyError\u001b[0m                                  Traceback (most recent call last)",
            "\u001b[0;32m<ipython-input-9-c48af812cf28>\u001b[0m in \u001b[0;36m<cell line: 1>\u001b[0;34m()\u001b[0m\n\u001b[0;32m----> 1\u001b[0;31m \u001b[0mvowels_fun\u001b[0m\u001b[0;34m.\u001b[0m\u001b[0mremove\u001b[0m\u001b[0;34m(\u001b[0m\u001b[0;36m1\u001b[0m\u001b[0;34m)\u001b[0m\u001b[0;34m\u001b[0m\u001b[0;34m\u001b[0m\u001b[0m\n\u001b[0m\u001b[1;32m      2\u001b[0m \u001b[0mprint\u001b[0m\u001b[0;34m(\u001b[0m\u001b[0;34m\"Using remove when element is not present :\"\u001b[0m\u001b[0;34m,\u001b[0m\u001b[0mvowels_fun\u001b[0m\u001b[0;34m)\u001b[0m\u001b[0;34m\u001b[0m\u001b[0;34m\u001b[0m\u001b[0m\n",
            "\u001b[0;31mKeyError\u001b[0m: 1"
          ]
        }
      ]
    },
    {
      "cell_type": "markdown",
      "source": [
        "Popping an element\n",
        "\n",
        "To pop an element from the set similar to the list, the pop() function is used. It returns the item. The element pop out of the set is completely random because the set is not an ordered data type"
      ],
      "metadata": {
        "id": "RTsKdjT7J53k"
      }
    },
    {
      "cell_type": "code",
      "source": [
        "vowels_fun = {'i','e','b','g','a','z','d','u','o'}\n",
        "print(\"the popped element is : \", vowels_fun.pop())"
      ],
      "metadata": {
        "colab": {
          "base_uri": "https://localhost:8080/"
        },
        "id": "XkIIUPeKJjc5",
        "outputId": "8720faa1-584c-492c-f620-e70274ea31e1"
      },
      "execution_count": null,
      "outputs": [
        {
          "output_type": "stream",
          "name": "stdout",
          "text": [
            "the popped element is :  o\n"
          ]
        }
      ]
    },
    {
      "cell_type": "markdown",
      "source": [
        "Union\n",
        "\n",
        "Union is a mathematical operation inwhich all the elements are taken from the two sets and the duplicates are removed. The union is performed by applying the bitwise or (|) operator.\n",
        "\n",
        "syntax\n",
        "\n",
        "set|set"
      ],
      "metadata": {
        "id": "RzfdnsYbK6be"
      }
    },
    {
      "cell_type": "code",
      "source": [
        "#Example\n",
        "parameter_1 = {'a','b','c','d','e','f','g'}\n",
        "parameter_2 = {'a','e','i','o','u'}\n",
        "print(\"Union set : \", parameter_1|parameter_2)"
      ],
      "metadata": {
        "colab": {
          "base_uri": "https://localhost:8080/"
        },
        "id": "_r2R6_-tKxUb",
        "outputId": "e3ca5406-6ea2-4d7c-8f00-350013c621bc"
      },
      "execution_count": null,
      "outputs": [
        {
          "output_type": "stream",
          "name": "stdout",
          "text": [
            "Union set :  {'o', 'a', 'c', 'f', 'b', 'g', 'u', 'i', 'e', 'd'}\n"
          ]
        }
      ]
    },
    {
      "cell_type": "markdown",
      "source": [
        "Intersection\n",
        "\n",
        "The intersection of sets for two given sets is the set that contains all the elements that are common to both sets. This operationis implemented by using the bitwise and (&) operator.\n",
        "\n",
        "syntax\n",
        "\n",
        "set&set\n"
      ],
      "metadata": {
        "id": "GV2tRKuvR3e_"
      }
    },
    {
      "cell_type": "code",
      "source": [
        "#Example\n",
        "parameter_1 = {'a','b','c','d','e','f','g'}\n",
        "parameter_2 = {'a', 'e', 'i', 'o', 'u'}\n",
        "print(\"Intersection set:\", parameter_1&parameter_2)"
      ],
      "metadata": {
        "colab": {
          "base_uri": "https://localhost:8080/"
        },
        "id": "rI_S1xipRwmd",
        "outputId": "e6d163e3-e5f5-4531-ec6e-34bac48b8484"
      },
      "execution_count": null,
      "outputs": [
        {
          "output_type": "stream",
          "name": "stdout",
          "text": [
            "Intersection set: {'a', 'e'}\n"
          ]
        }
      ]
    },
    {
      "cell_type": "markdown",
      "source": [
        "Difference\n",
        "\n",
        "The difference between two sets, B-A, is the set of all elements of B that are not elements of A. In the below example, the red portion is the data which is present in just parameter_1 but not in parameter_2.\n",
        "\n",
        "Syntax\n",
        "\n",
        "set.difference(set)"
      ],
      "metadata": {
        "id": "AkhJqehGUDTS"
      }
    },
    {
      "cell_type": "code",
      "source": [
        "#Example\n",
        "parameter_1 = {'a','b','c','d','e','f','g'}\n",
        "parameter_2 = {'a', 'e','i','o','u'}\n",
        "print(parameter_1.difference(parameter_2))"
      ],
      "metadata": {
        "colab": {
          "base_uri": "https://localhost:8080/"
        },
        "id": "G4dWsdpITTsI",
        "outputId": "d6ae8a90-711a-4a15-e048-2c5ed8560fa5"
      },
      "execution_count": null,
      "outputs": [
        {
          "output_type": "stream",
          "name": "stdout",
          "text": [
            "{'c', 'f', 'b', 'g', 'd'}\n"
          ]
        }
      ]
    },
    {
      "cell_type": "markdown",
      "source": [
        "Tuples in python\n",
        "\n",
        "A tuple are an ordered, immutable collection of objects. This means that once the objects are assigned to a tuple, the tuple cannot be changed under any circumstance. It is often useful to think of a tuple as a constant list. As tuples are closely related to lists, its no surprise that they look similar and behave in a similar way. Tuples are surrouned by parentheses.\n",
        "\n",
        "syntax\n",
        "\n",
        "tuple=()\n",
        "\n",
        "tuple()\n"
      ],
      "metadata": {
        "id": "rJ4s8u6rYn49"
      }
    },
    {
      "cell_type": "code",
      "source": [
        "#Example\n",
        "vowels=('a','e','i','o','o','u','u')\n",
        "print(\"Tuple : \",vowels, \"\\nData type : \", type(vowels))"
      ],
      "metadata": {
        "colab": {
          "base_uri": "https://localhost:8080/"
        },
        "id": "CqgFE8_aYkwV",
        "outputId": "25aa8e5d-ed01-4865-8ab9-6540af841931"
      },
      "execution_count": null,
      "outputs": [
        {
          "output_type": "stream",
          "name": "stdout",
          "text": [
            "Tuple :  ('a', 'e', 'i', 'o', 'o', 'u', 'u') \n",
            "Data type :  <class 'tuple'>\n"
          ]
        }
      ]
    },
    {
      "cell_type": "markdown",
      "source": [
        "Operations on tuples\n",
        "\n",
        "Here are the frequently used operations for tuples.\n",
        "\n",
        "Accessing the elements\n",
        "\n",
        "Since the tuple is an ordrered data type, the element could be accessed using indices.\n",
        "\n",
        "syntax\n",
        "\n",
        "tuple[index]"
      ],
      "metadata": {
        "id": "my1ouHrRafLf"
      }
    },
    {
      "cell_type": "code",
      "source": [
        "#Example\n",
        "\n",
        "vowels = ('a','e','i','o','o','u','u')\n",
        "print(\"Extracting element: \", vowels[0])"
      ],
      "metadata": {
        "colab": {
          "base_uri": "https://localhost:8080/"
        },
        "id": "BCqnzbHKaOyk",
        "outputId": "9a21953b-7332-40f3-f47f-0ae746fc2f1b"
      },
      "execution_count": null,
      "outputs": [
        {
          "output_type": "stream",
          "name": "stdout",
          "text": [
            "Extracting element:  a\n"
          ]
        }
      ]
    },
    {
      "cell_type": "markdown",
      "source": [
        "Concatenate tuples\n",
        "\n",
        "The tuples could be concatenated using the add operator '+'. This doesnt mean a tuple is a mutable object. It is used to create a new tuple out of the desired tuples.\n",
        "\n",
        "syntax\n",
        "\n",
        "tuple+tuple"
      ],
      "metadata": {
        "id": "TZi_L8JXbUCG"
      }
    },
    {
      "cell_type": "code",
      "source": [
        "#Example\n",
        "vowels = ('a','e','i','o','o','u','u')\n",
        "alpha = tuple('bcdgh')\n",
        "print(\"The concatenated tuple\", vowels+alpha)"
      ],
      "metadata": {
        "colab": {
          "base_uri": "https://localhost:8080/"
        },
        "id": "epCK0glDbQrQ",
        "outputId": "65cfa9af-c061-499c-a9b5-5d7d5ae55170"
      },
      "execution_count": null,
      "outputs": [
        {
          "output_type": "stream",
          "name": "stdout",
          "text": [
            "The concatenated tuple ('a', 'e', 'i', 'o', 'o', 'u', 'u', 'b', 'c', 'd', 'g', 'h')\n"
          ]
        }
      ]
    },
    {
      "cell_type": "code",
      "source": [],
      "metadata": {
        "id": "9Ip8j7IbcEw3"
      },
      "execution_count": null,
      "outputs": []
    }
  ]
}
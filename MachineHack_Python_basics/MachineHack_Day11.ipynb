{
  "nbformat": 4,
  "nbformat_minor": 0,
  "metadata": {
    "colab": {
      "provenance": []
    },
    "kernelspec": {
      "name": "python3",
      "display_name": "Python 3"
    },
    "language_info": {
      "name": "python"
    }
  },
  "cells": [
    {
      "cell_type": "markdown",
      "source": [
        "\n",
        "\n",
        "30 Days of Python-MachineHack\n",
        "\n",
        "DAY 11 Functions\n"
      ],
      "metadata": {
        "id": "yWJwTuwgOk1l"
      }
    },
    {
      "cell_type": "markdown",
      "source": [
        "Functions in python\n",
        "\n",
        "User defined functions\n",
        "\n",
        "A function Consists of statements that accept input, do a specified computation, and return output. the goal is to combine certain frequently or repeatedly performed operations into a functions so that it can be called whwever there is a requirement for that operation instead of writing the same code for different inputs.\n",
        "\n",
        "when defining a function, one could also define the parametr that would be used within the function. Consider parametr as input variables given by the user. When calling a function, the value passed for tjose parameters is certainly called an argument.\n",
        "\n"
      ],
      "metadata": {
        "id": "tT5oYuRGOq0b"
      }
    },
    {
      "cell_type": "markdown",
      "source": [
        "Defining and calling functions\n",
        "\n",
        "All functions written by the user fall within the category of user defined function. In simpler words, the processes for developing user defined function in python are as follows. In python, the keyword \"def\" is used to define the functions by users. Following the functions name and parameters is an indented block of statements that includes the functions body.\n",
        "\n",
        "Syntax\n",
        "\n",
        "def function_name(parameter):\n",
        "  \n",
        "  statements\n",
        "  \n",
        "  .\n",
        "  \n",
        "  ."
      ],
      "metadata": {
        "id": "huZrng4VQbV2"
      }
    },
    {
      "cell_type": "code",
      "execution_count": null,
      "metadata": {
        "colab": {
          "base_uri": "https://localhost:8080/"
        },
        "id": "QWMn2F6QOXUd",
        "outputId": "59b797ed-2575-49cb-915a-984470892ed1"
      },
      "outputs": [
        {
          "output_type": "stream",
          "name": "stdout",
          "text": [
            "The output of defined function: Machine hack\n"
          ]
        }
      ],
      "source": [
        "#Exxample\n",
        "def fun():\n",
        "  return(\"Machine hack\")\n",
        "print(\"The output of defined function:\", fun())"
      ]
    },
    {
      "cell_type": "markdown",
      "source": [
        "While using the user defined functions, dont use printt statements rather , use return statements. Because invoking print causes the software to print text for viewing quickly. When a return statement is encountered,  Python will halt the execution of the current function and transmmit a vlue to the location where the function was called."
      ],
      "metadata": {
        "id": "mKYh4BswR4QG"
      }
    },
    {
      "cell_type": "code",
      "source": [
        "def validator(age):\n",
        "  if age>18:\n",
        "    return 'Eli'\n",
        "  else:\n",
        "    return 'Inelli'\n",
        "age_list = [25,29,20,30,29,15,20,23,19,18]\n",
        "validator = [validator(i) for i in age_list]\n",
        "print(validator)"
      ],
      "metadata": {
        "colab": {
          "base_uri": "https://localhost:8080/"
        },
        "id": "_XVUH9AXRo83",
        "outputId": "faa42c1a-9685-4cff-8d6c-21004eebc55f"
      },
      "execution_count": null,
      "outputs": [
        {
          "output_type": "stream",
          "name": "stdout",
          "text": [
            "['Eli', 'Eli', 'Eli', 'Eli', 'Eli', 'Inelli', 'Eli', 'Eli', 'Eli', 'Inelli']\n"
          ]
        }
      ]
    },
    {
      "cell_type": "markdown",
      "source": [
        "In the above example, a user defined function \" validator\" is defined, which takes a parameter named \"age\". Then the function is used in a list comprehension to validate the ages stores inthe list."
      ],
      "metadata": {
        "id": "koACYYtfTNJG"
      }
    },
    {
      "cell_type": "markdown",
      "source": [
        "Lambda Functions\n",
        "\n",
        "A lambda function is an anonymous functions that is tiny in size. A lambda function can have an unlimited number of parameters but only one expression. To define a lambda function, the \"lambda\" keyword needed to be used; the function contains argument(s) and expression.The argument is any value passed in the function, and the expression is the operation or condition which will be performed.\n",
        "\n",
        "Syntax\n",
        "\n",
        "lambda argument(s) : expression\n"
      ],
      "metadata": {
        "id": "5PfZqSXDTuR6"
      }
    },
    {
      "cell_type": "code",
      "source": [
        "#Example\n",
        "func =  lambda : print('Machine Hack')\n",
        "func()"
      ],
      "metadata": {
        "colab": {
          "base_uri": "https://localhost:8080/"
        },
        "id": "c7El3gJhTGvr",
        "outputId": "39b26dda-96e5-4145-bd17-2f0b59710bdd"
      },
      "execution_count": null,
      "outputs": [
        {
          "output_type": "stream",
          "name": "stdout",
          "text": [
            "Machine Hack\n"
          ]
        }
      ]
    },
    {
      "cell_type": "markdown",
      "source": [
        "Inthe above example, there is no argument, just an expression, and at last, the function needs to be called."
      ],
      "metadata": {
        "id": "Cu20_sP1Y3nP"
      }
    },
    {
      "cell_type": "code",
      "source": [
        "msg = lambda Course_name : print('Learn', Course_name, 'with MH')\n",
        "msg('Python')"
      ],
      "metadata": {
        "colab": {
          "base_uri": "https://localhost:8080/"
        },
        "id": "LJuOOrXnYz5y",
        "outputId": "d2f0d4c6-d194-4ffb-ee29-7cd27b08e750"
      },
      "execution_count": null,
      "outputs": [
        {
          "output_type": "stream",
          "name": "stdout",
          "text": [
            "Learn Python with MH\n"
          ]
        }
      ]
    },
    {
      "cell_type": "markdown",
      "source": [
        "the lambda function is assigned to the \"msg\" variable inthe above example. Here, Course_name after the lambda keyword specifies that the lambda function accept the argument name and the variable used inthe expression it should be the same. If using an argument, it must be passed when calling the function."
      ],
      "metadata": {
        "id": "uNb3vSrMZcW7"
      }
    },
    {
      "cell_type": "markdown",
      "source": [
        "Flexible functions\n",
        "\n",
        "Defining a function that accepts any number of optional arguments is possible by using an asterisk(*).When the asterisk or star symbol(*) is used immediately before a sequence, it unpacks the sequence into its individual components. When a sequnce, such as list , is unpacked, its items are extracted and treated as individual objects."
      ],
      "metadata": {
        "id": "goHWu9x5aCP4"
      }
    },
    {
      "cell_type": "code",
      "source": [
        "in_list = [2,4,6,8,10,12,14,16,18]\n",
        "print(\"Without asterisk(*) symbol:\", in_list)\n",
        "print(\"with asterisl(*) symbol:\", *in_list)"
      ],
      "metadata": {
        "colab": {
          "base_uri": "https://localhost:8080/"
        },
        "id": "mwjMplcoZS1b",
        "outputId": "9da19afe-18b9-4f1a-8abd-691d625c29a0"
      },
      "execution_count": null,
      "outputs": [
        {
          "output_type": "stream",
          "name": "stdout",
          "text": [
            "Without asterisk(*) symbol: [2, 4, 6, 8, 10, 12, 14, 16, 18]\n",
            "with asterisl(*) symbol: 2 4 6 8 10 12 14 16 18\n"
          ]
        }
      ]
    },
    {
      "cell_type": "markdown",
      "source": [
        "As seen in the above example, without an asterisk symbol, the lists element is considered a sequence, but after using the symbol, elements are considered individual components.\n",
        "\n",
        "Similarly, while defining the parameter of a function, an asterisk could be utilized to define a flexible parameter which could take any number of arguments."
      ],
      "metadata": {
        "id": "LGFLsFePeA28"
      }
    },
    {
      "cell_type": "code",
      "source": [
        "data_1 = {\n",
        "    \"title\" : \"Article 15\",\n",
        "    \"director\" : \"Anubhav Sinha\",\n",
        "    \"year\": 2019\n",
        "}\n",
        "data_2 = {\n",
        "    \"title\" : \"Dark\",\n",
        "    \"director\" : \"Baran bo odar\",\n",
        "    \"year\" : 2017\n",
        "}\n",
        "def read_data(*records):\n",
        "   for value in records:\n",
        "      print(value)\n",
        "\n",
        "read_data(*data_1.values(), *data_2.values())"
      ],
      "metadata": {
        "colab": {
          "base_uri": "https://localhost:8080/"
        },
        "id": "t4W1AIIgd2Qn",
        "outputId": "7918139e-9663-46ee-e0b6-bfd5c538bccf"
      },
      "execution_count": null,
      "outputs": [
        {
          "output_type": "stream",
          "name": "stdout",
          "text": [
            "Article 15\n",
            "Anubhav Sinha\n",
            "2019\n",
            "Dark\n",
            "Baran bo odar\n",
            "2017\n"
          ]
        }
      ]
    },
    {
      "cell_type": "markdown",
      "source": [
        "In the above example, the dictionaries are defined in which the data related to movies and web series are stored. This data will be used as an argument for the defined function 'read_data'. the function has a flexible parameter which allows multiple dictionaries to apss as arguments.\n",
        "\n",
        "Lets compare this flexible function which is a function which has a fixed argument."
      ],
      "metadata": {
        "id": "cpg_XJDlfxKu"
      }
    },
    {
      "cell_type": "code",
      "source": [
        "def read_data(records):\n",
        "   for value in records:\n",
        "      print(value)\n",
        "read_data(data_1.values(), data_2.values())"
      ],
      "metadata": {
        "colab": {
          "base_uri": "https://localhost:8080/",
          "height": 211
        },
        "id": "7OejFuwafuB6",
        "outputId": "43315d3d-8754-4347-9031-b24b1f08140f"
      },
      "execution_count": null,
      "outputs": [
        {
          "output_type": "error",
          "ename": "TypeError",
          "evalue": "ignored",
          "traceback": [
            "\u001b[0;31m---------------------------------------------------------------------------\u001b[0m",
            "\u001b[0;31mTypeError\u001b[0m                                 Traceback (most recent call last)",
            "\u001b[0;32m<ipython-input-9-e31bb478d641>\u001b[0m in \u001b[0;36m<cell line: 4>\u001b[0;34m()\u001b[0m\n\u001b[1;32m      2\u001b[0m    \u001b[0;32mfor\u001b[0m \u001b[0mvalue\u001b[0m \u001b[0;32min\u001b[0m \u001b[0mrecords\u001b[0m\u001b[0;34m:\u001b[0m\u001b[0;34m\u001b[0m\u001b[0;34m\u001b[0m\u001b[0m\n\u001b[1;32m      3\u001b[0m       \u001b[0mprint\u001b[0m\u001b[0;34m(\u001b[0m\u001b[0mvalue\u001b[0m\u001b[0;34m)\u001b[0m\u001b[0;34m\u001b[0m\u001b[0;34m\u001b[0m\u001b[0m\n\u001b[0;32m----> 4\u001b[0;31m \u001b[0mread_data\u001b[0m\u001b[0;34m(\u001b[0m\u001b[0mdata_1\u001b[0m\u001b[0;34m.\u001b[0m\u001b[0mvalues\u001b[0m\u001b[0;34m(\u001b[0m\u001b[0;34m)\u001b[0m\u001b[0;34m,\u001b[0m \u001b[0mdata_2\u001b[0m\u001b[0;34m.\u001b[0m\u001b[0mvalues\u001b[0m\u001b[0;34m(\u001b[0m\u001b[0;34m)\u001b[0m\u001b[0;34m)\u001b[0m\u001b[0;34m\u001b[0m\u001b[0;34m\u001b[0m\u001b[0m\n\u001b[0m",
            "\u001b[0;31mTypeError\u001b[0m: read_data() takes 1 positional argument but 2 were given"
          ]
        }
      ]
    },
    {
      "cell_type": "markdown",
      "source": [
        "As seen, the function would not allow passing multiple arguments since the defined is not flexible."
      ],
      "metadata": {
        "id": "1gZvMuTXhK-y"
      }
    },
    {
      "cell_type": "markdown",
      "source": [
        "Map Functions\n",
        "\n",
        "The map() function applies a given to easch item of an iterable. The iterable could be a list, tuple or any other data type.It returns a map object and o location where there it is stored. This map object is needed to be converted either into a list or a set. The map function includes two parameter functions and iterables. Consider function as the desired operation that would be applied to the input iterables.\n",
        "\n",
        "Syntax\n",
        "\n",
        "map(function, iterable)"
      ],
      "metadata": {
        "id": "yHSBCsOohfeH"
      }
    },
    {
      "cell_type": "code",
      "source": [
        "#Example\n",
        "def FindSquares(nval):\n",
        "   return nval*nval\n",
        "\n",
        "numbers = [9,8,7,6,5,4]\n",
        "result = list(map(FindSquares, numbers))\n",
        "print(result)"
      ],
      "metadata": {
        "colab": {
          "base_uri": "https://localhost:8080/"
        },
        "id": "hRFalVl6hGMk",
        "outputId": "6b4d0a30-94ae-4145-9a00-e5c0db703ccf"
      },
      "execution_count": null,
      "outputs": [
        {
          "output_type": "stream",
          "name": "stdout",
          "text": [
            "[81, 64, 49, 36, 25, 16]\n"
          ]
        }
      ]
    },
    {
      "cell_type": "code",
      "source": [],
      "metadata": {
        "id": "6TlUDvfqjDrF"
      },
      "execution_count": null,
      "outputs": []
    }
  ]
}
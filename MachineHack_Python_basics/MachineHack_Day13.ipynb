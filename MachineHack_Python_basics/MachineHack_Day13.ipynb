{
  "nbformat": 4,
  "nbformat_minor": 0,
  "metadata": {
    "colab": {
      "provenance": []
    },
    "kernelspec": {
      "name": "python3",
      "display_name": "Python 3"
    },
    "language_info": {
      "name": "python"
    }
  },
  "cells": [
    {
      "cell_type": "markdown",
      "source": [
        "30 Days of Python-MachineHack\n",
        "\n",
        "\n",
        "DAY 13 Object-oriented programming in practice"
      ],
      "metadata": {
        "id": "bhC_l-LYq92P"
      }
    },
    {
      "cell_type": "markdown",
      "source": [
        "Inheritance\n",
        "\n",
        "Inheritance is a technique by which one class acquires the characteristics and behaviors of another. The base class is the one whose members are inheritaed, and the derived class is the one that inherits those members. It coulld be said that inheritance provieds a way of acieving code re-usability where instead of writing the same code multiple times.\n",
        "\n",
        "Syntax\n",
        "\n",
        "class class_1():\n",
        "\n",
        ".\n",
        "\n",
        ".\n",
        "\n",
        ".\n",
        "class class_2():"
      ],
      "metadata": {
        "id": "J04dxEznroxo"
      }
    },
    {
      "cell_type": "markdown",
      "source": [
        "The child class\"class_2\" will inherit all of the attributes of the parent class \"class_2\" and methods.But the class canalso specify attributes and methods that are unique to themselves. For example, consider OOPs inherotance the same as genetic inheritance. One may have inherited the hair colur from their mother. Therefore it is an attibute which is born with the person. Lets say the person decides to colour the hair with some colour. By doing this, the person has overridden the hair colour attribute inherited from their mother."
      ],
      "metadata": {
        "id": "CQtxqXTO21GF"
      }
    },
    {
      "cell_type": "code",
      "execution_count": null,
      "metadata": {
        "colab": {
          "base_uri": "https://localhost:8080/",
          "height": 53
        },
        "id": "D2Qm0zrWqxeq",
        "outputId": "fc7cdc98-847a-4593-f4d4-783c06918a7d"
      },
      "outputs": [
        {
          "output_type": "stream",
          "name": "stdout",
          "text": [
            "12123 10 50\n"
          ]
        },
        {
          "output_type": "execute_result",
          "data": {
            "text/plain": [
              "'pass'"
            ],
            "application/vnd.google.colaboratory.intrinsic+json": {
              "type": "string"
            }
          },
          "metadata": {},
          "execution_count": 2
        }
      ],
      "source": [
        "class Details:\n",
        "  def __init__(self,id, standard,score):\n",
        "    self.enrollment = id\n",
        "    self.std = standard\n",
        "    self.score = score\n",
        "\n",
        "  def display(self):\n",
        "    print(self.enrollment, self.std,self.score)\n",
        "\n",
        "class student(Details):\n",
        "  def validator(self):\n",
        "    if self.score>40:\n",
        "        return \"pass\"\n",
        "    else:\n",
        "        return \"Fail\"\n",
        "\n",
        "x= student(12123, 10, 50)\n",
        "x.display()\n",
        "x.validator()"
      ]
    },
    {
      "cell_type": "markdown",
      "source": [
        "In the above example, the parent class is \"Details\" and the child class is \"student\". When the \"student\" class is called, the parent class is initialized, so it requires the variables which are initialized in the \"Details\" class. The dispay function of the parent class \"Details\" could also be accessed since the child class inherit all the attributes of the parent class.\n",
        "\n",
        "There are five types of inheritance supported by python single inheritance, multiple inheritances , multilevel inheritance, Hieracrchical inheritance, and hybrid inheritance.\n",
        "\n",
        "Single inheritance\n",
        "\n",
        "when a child class is derived from only one parent class, the example explained above is a single inheritance.\n",
        "\n",
        "Multiple inheritance\n",
        "\n",
        "When a child class is inherited from many parent classes, thih is known as mmultiple inheritances.  For example, there are two parent classes.\n",
        "\n",
        "\n"
      ],
      "metadata": {
        "id": "tACkZXfuINIA"
      }
    },
    {
      "cell_type": "code",
      "source": [
        "class Vehicles:\n",
        "  vehicles_1 = \"car\"\n",
        "  vehicles_2 = \"Bike\"\n",
        "  vehicles_3 = \"Bus\"\n",
        "\n",
        "class types:\n",
        "  type_1 = \"SUV, sedan, hatchback\"\n",
        "  type_2 = \"bobber, roaster\"\n",
        "  type_3 = \"sinle axial, multi axial\"\n",
        "\n",
        "\n",
        "class Usage(Vehicles, types):\n",
        "  Usage_1 = 100\n",
        "  Usage_2 = 70\n",
        "  Usage_3 = 60\n",
        "\n",
        "\n",
        "obj_1 = Usage()\n",
        "print('In ' + obj_1.vehicles_1+ \" there are \"+obj_1.type_1)"
      ],
      "metadata": {
        "colab": {
          "base_uri": "https://localhost:8080/"
        },
        "id": "PPNnPMGv5AIq",
        "outputId": "0c310b14-2d22-4df7-f41a-b7ea2e6152a4"
      },
      "execution_count": null,
      "outputs": [
        {
          "output_type": "stream",
          "name": "stdout",
          "text": [
            "In car there are SUV, sedan, hatchback\n"
          ]
        }
      ]
    },
    {
      "cell_type": "markdown",
      "source": [
        "In the above example, the child class \"Usage\" inherits from the parent class and there is another class which inherits from the child class itself.\n"
      ],
      "metadata": {
        "id": "4nrw5JgZLiob"
      }
    },
    {
      "cell_type": "markdown",
      "source": [
        "Multilevel Inheritance\n",
        "\n",
        "It occurs when a child class inherits from the parent class, and there is another class which inherirs from child class itself"
      ],
      "metadata": {
        "id": "1vJMuuAsMLps"
      }
    },
    {
      "cell_type": "code",
      "source": [
        "class Vehicles:\n",
        " vehicles_1 = \"Car\"\n",
        " vehicles_2 = \"Bike\"\n",
        " vehicles_3 = \"Bus\"\n",
        "\n",
        "class Types(Vehicles):\n",
        " type_1 = \"SUV, sedan, hatchback\"\n",
        " type_2 = \"bobber, roaster\"\n",
        " type_3 = \"single axial, multi axial\"\n",
        "\n",
        "class Usage(Types):\n",
        " Usage_1 = 100\n",
        " Usage_2 = 70\n",
        " Usage_3 = 60\n",
        "\n",
        "obj_1 = Usage()\n",
        "print('In '+ obj_1.vehicles_1+\" there are \"+ obj_1.type_1+ \" and score is \"+str(obj_1.Usage_1))\n"
      ],
      "metadata": {
        "colab": {
          "base_uri": "https://localhost:8080/"
        },
        "id": "ndINF_SXLVLy",
        "outputId": "087c0f4f-4f14-4cf0-c331-b4689001d1e8"
      },
      "execution_count": null,
      "outputs": [
        {
          "output_type": "stream",
          "name": "stdout",
          "text": [
            "In Car there are SUV, sedan, hatchback and score is 100\n"
          ]
        }
      ]
    },
    {
      "cell_type": "markdown",
      "source": [
        "In the above example, the “Types” class inherits the “Vehicle” class which the parent class for it and “Usage” class inherits the “Type” class which acts as the parent class for it."
      ],
      "metadata": {
        "id": "8Ul4rBEyMsMY"
      }
    },
    {
      "cell_type": "markdown",
      "source": [
        "Hierarchical inheritance\n",
        "\n",
        "Occurs when there are multiple child classes derived from the single parent class."
      ],
      "metadata": {
        "id": "g0YEneupMuj-"
      }
    },
    {
      "cell_type": "code",
      "source": [
        "class Vehicles:\n",
        " vehicles_1 = \"Car\"\n",
        " vehicles_2 = \"Bike\"\n",
        " vehicles_3 = \"Bus\"\n",
        "\n",
        "class Types(Vehicles):\n",
        " type_1 = \"SUV, sedan, hatchback\"\n",
        " type_2 = \"bobber, roaster\"\n",
        " type_3 = \"single axial, multi axial\"\n",
        "\n",
        "class Usage(Vehicles):\n",
        " Usage_1 = 100\n",
        " Usage_2 = 70\n",
        " Usage_3 = 60\n",
        "\n",
        "class Value(Vehicles):\n",
        " value_1 = \"Excellent Value\"\n",
        " value_2 = \"Better Value\"\n",
        " value_3 = \"Good Value\"\n",
        "\n",
        "obj_1 = Types()\n",
        "obj_2 = Usage()\n",
        "obj_3 = Value()\n",
        "print('In '+ obj_1.vehicles_1+\" there are \"+ obj_1.type_1+\" \"+obj_3.value_1)\n"
      ],
      "metadata": {
        "colab": {
          "base_uri": "https://localhost:8080/"
        },
        "id": "kd2PfmNRMilX",
        "outputId": "98042621-0924-46f6-88bb-9fea2193df00"
      },
      "execution_count": null,
      "outputs": [
        {
          "output_type": "stream",
          "name": "stdout",
          "text": [
            "In Car there are SUV, sedan, hatchback Excellent Value\n"
          ]
        }
      ]
    },
    {
      "cell_type": "markdown",
      "source": [
        "In the above example, the “Vehicles” class acts as the parent class for all the other classes because all the other classes inherit attributes from the “Vehicles” class."
      ],
      "metadata": {
        "id": "35GZJQRBM8_v"
      }
    },
    {
      "cell_type": "markdown",
      "source": [
        "Hybrid inheritance\n",
        "\n",
        "More than one type of inheritance is satisfied by hybrid inheritance. Therefore, it is not inaccurate to say Hybrid Inheritance is the mixture of simple, multiple, multilevel and hierarchical inheritances. This inheritance is useful when there is no restriction for the desired structure."
      ],
      "metadata": {
        "id": "ppnaAveOM_jg"
      }
    },
    {
      "cell_type": "code",
      "source": [
        "class org:\n",
        " def part_1(self):\n",
        "  print(\"This is parent\")\n",
        "\n",
        "class course(org):\n",
        " def part_2(self):\n",
        "  print(\"This is course class inheriting org class\")\n",
        "\n",
        "class learn(course):\n",
        " def part_3(self):\n",
        "  print(\"This is learn class inheriting course class\")\n",
        "\n",
        "class practice(learn, course):\n",
        " def part_4(self):\n",
        "  print(\"This is practice class inheriting org and learn\")\n",
        "\n",
        "obj = practice()\n",
        "obj1 = learn()\n",
        "obj.part_4()\n",
        "obj.part_3()"
      ],
      "metadata": {
        "colab": {
          "base_uri": "https://localhost:8080/"
        },
        "id": "tPIS0nPwM2Zy",
        "outputId": "a11df34f-bb4a-4e84-f017-2434aa6eb7aa"
      },
      "execution_count": null,
      "outputs": [
        {
          "output_type": "stream",
          "name": "stdout",
          "text": [
            "This is practice class inheriting org and learn\n",
            "This is learn class inheriting course class\n"
          ]
        }
      ]
    },
    {
      "cell_type": "markdown",
      "source": [
        "Method overriding\n",
        "\n",
        "Method Overriding and inheritance are interrelated to each other. It occurs when a child class method is implemented with the same name, parameter and return type as its parent class method. The changes made by the child class are the overriding method, and the changes made in the parent class are overridden method. It helps avoid duplication of code and enhances the code by adding some additional properties. It is to be noted that the method overriding inheritance has to be applied."
      ],
      "metadata": {
        "id": "_zCs2Ok7NIaN"
      }
    },
    {
      "cell_type": "code",
      "source": [
        "class Organization:\n",
        "  def greet(self):\n",
        "  \t  print(\"Welcome to Machine Hack\")\n",
        "\n",
        "  def course_name(self):\n",
        " \t    print(\"Supervised Learning\")\n",
        "\n",
        "class ML (Organization):\n",
        "  def course_name(self):\n",
        " \t    print(\"Learn Python in 30 days\")\n",
        "\n",
        "class Data_engineering (Organization):\n",
        "  def course_name(self):\n",
        " \t    print(\"Data engineering with MH\")\n",
        "\n",
        "class category (ML, Data_engineering):\n",
        "  def subjectName(self):\n",
        " \t     print(\"Categories of courses\")\n",
        "\n",
        "obj = category()\n",
        "obj.greet()\n",
        "obj.course_name()"
      ],
      "metadata": {
        "colab": {
          "base_uri": "https://localhost:8080/"
        },
        "id": "GK4KJYx8NENP",
        "outputId": "45be1a7a-a3ce-42d2-84bd-8b056a4093a2"
      },
      "execution_count": null,
      "outputs": [
        {
          "output_type": "stream",
          "name": "stdout",
          "text": [
            "Welcome to Machine Hack\n",
            "Learn Python in 30 days\n"
          ]
        }
      ]
    },
    {
      "cell_type": "markdown",
      "source": [
        "In the above example, there is a hybrid inheritance occurring in which the parent class is “Organization”, and the child classes are “ML” and “Data_engineering”. The class “category” is the child class for the “ML” and “Data_engineering” classes.  In the “ML” and “Data_engineering” classes, the function course_name is getting overridden, and in the class “category” the “subjectName” object is getting overridden."
      ],
      "metadata": {
        "id": "NZHaIrzUNv7C"
      }
    },
    {
      "cell_type": "markdown",
      "source": [
        "Magic method\n",
        "\n",
        "Magic methods in Python are those that begin and conclude with double underscores. They are also known as dunder techniques. Magic methods are not intended to be invoked directly by the user but rather by the class on a specific action. For example, when an add “+” operator is used internally, the __add__() object is called for operation. Many magic methods in Python are defined by built-in classes. To get the number of magic methods inherited by a class, use the dir() function.\n",
        "\n",
        "In the below example, the __init__() function will automatically intialize the variable without even calling the function."
      ],
      "metadata": {
        "id": "aHmlXlyeNzbc"
      }
    },
    {
      "cell_type": "code",
      "source": [
        "class Details(object):\n",
        " def __init__(self, id, standard,score):\n",
        "  self.enrollment = id\n",
        "  self.std = standard\n",
        "  self.score=score\n",
        "\n",
        " def display(self):\n",
        "  print(self.enrollment, self.std,self.score)\n",
        "obj=Details(123123,4,45)\n",
        "obj.display()"
      ],
      "metadata": {
        "colab": {
          "base_uri": "https://localhost:8080/"
        },
        "id": "Os9bZX1ZNRb6",
        "outputId": "d090d4d9-f293-4540-e56d-d3b88885a612"
      },
      "execution_count": null,
      "outputs": [
        {
          "output_type": "stream",
          "name": "stdout",
          "text": [
            "123123 4 45\n"
          ]
        }
      ]
    },
    {
      "cell_type": "code",
      "source": [],
      "metadata": {
        "id": "WLg4FBq3N4sQ"
      },
      "execution_count": null,
      "outputs": []
    }
  ]
}
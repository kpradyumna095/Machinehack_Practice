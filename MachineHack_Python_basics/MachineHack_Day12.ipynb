{
  "nbformat": 4,
  "nbformat_minor": 0,
  "metadata": {
    "colab": {
      "provenance": []
    },
    "kernelspec": {
      "name": "python3",
      "display_name": "Python 3"
    },
    "language_info": {
      "name": "python"
    }
  },
  "cells": [
    {
      "cell_type": "markdown",
      "source": [
        "\n",
        "\n",
        "30 Days of Python-MachineHack\n",
        "\n",
        "\n",
        "DAY 12 An overview of Object-oriented programming in python\n"
      ],
      "metadata": {
        "id": "Oe4EABjvTE_w"
      }
    },
    {
      "cell_type": "markdown",
      "source": [
        "Classes and objects\n",
        "\n",
        "Object-oriented programming(OOP) is programme structure form that involves grouping related characteristics and behaviours into seperate objects. In this course,you will master the foundations of object oriented programming in python.\n",
        "\n",
        "objects are conceptually similar to system components. For example, consider a system component which processed some matrial at each assembly line stage, ultimately changing raw material into a product. Similarly, objects take function components and perform operations on the given value to generate the desired output.\n",
        "\n",
        "Using a class helps in bundling behaviour and state together in an object. Here, bahavior is the function, a chunk of code that does opearstion or implements the desired behaviour. Similarly, the state is variable, a place to store values within a class. so when bundling behaviour and state,it builds packages functions and variables.\n",
        "\n",
        "Syntax\n",
        "\n",
        "class class_name(object): --> class\n",
        "\n",
        "def function_name(self,parameter):--object\n",
        "\n",
        ".\n",
        "\n",
        ".\n",
        "\n",
        "class_name().function(arguments)"
      ],
      "metadata": {
        "id": "AKrEgwFpVk5T"
      }
    },
    {
      "cell_type": "markdown",
      "source": [
        "Constructors\n",
        "\n",
        "Constructors are often used to create an object. Constructors are responsible for initializing or assigning values to the class's data members when an object of the class is created. For example, the __init__() function inpython is always called when an object is created. THe default and parametrized constructors are two types in python.\n",
        "\n",
        "The default constructor does not require any parameter. It is simple constructor which only takes one argument, \"self\". The self is cosidered a refernce to the instance built.\n",
        "\n",
        "Similarly, the parameterized constructor needs parameters. These constructors cosider the first argument to be the instance of the built, which is the \"self\" argument,and the developer provides the other parameter.\n",
        "\n",
        "Syntax\n",
        "\n",
        "Def __init__(self):\n",
        "     \n",
        "     #body of the constructor"
      ],
      "metadata": {
        "id": "vZBYezZAZjIj"
      }
    },
    {
      "cell_type": "code",
      "execution_count": null,
      "metadata": {
        "colab": {
          "base_uri": "https://localhost:8080/"
        },
        "id": "P5zWUkkySwd2",
        "outputId": "3bb313c6-7163-4258-870d-bf190817adcd"
      },
      "outputs": [
        {
          "output_type": "stream",
          "name": "stdout",
          "text": [
            "[81, 64, 49, 36, 25, 16]\n"
          ]
        }
      ],
      "source": [
        "#Example\n",
        "class Find_squares():\n",
        "   def calculator(self,nval):\n",
        "     return nval*nval\n",
        "   def squares(self, numbers):\n",
        "     result = list(map(self.calculator, numbers))\n",
        "     return result\n",
        "\n",
        "numbers = [9,8,7,6,5,4]\n",
        "sq=Find_squares()\n",
        "print(sq.squares(numbers))"
      ]
    },
    {
      "cell_type": "markdown",
      "source": [
        "In the above example, the primary intetion is to find the square of the given numbers and return a list object containing the squares. To do the task, a class is defined named\"Find_square\". In the class, the object parameter is optional. Insisde the class are two functions \"calculator\" and \"squares\". The claculator takes two positional arguments, which are on initiating command and the other is the value from the input data. This calculator function would be used inside the squares functions. To use a functions inside another, \"self.function_name\" shloud be used to call the function object . Now that the class is built, call it and assign it to a variable, then the access the functions using the dot."
      ],
      "metadata": {
        "id": "HevWOdaGdNoz"
      }
    },
    {
      "cell_type": "code",
      "source": [],
      "metadata": {
        "id": "bKXZwbp0dAl8"
      },
      "execution_count": null,
      "outputs": []
    }
  ]
}
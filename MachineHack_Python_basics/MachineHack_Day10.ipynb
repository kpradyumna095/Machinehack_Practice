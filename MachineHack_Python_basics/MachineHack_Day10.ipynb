{
  "nbformat": 4,
  "nbformat_minor": 0,
  "metadata": {
    "colab": {
      "provenance": []
    },
    "kernelspec": {
      "name": "python3",
      "display_name": "Python 3"
    },
    "language_info": {
      "name": "python"
    }
  },
  "cells": [
    {
      "cell_type": "markdown",
      "source": [
        "\n",
        "\n",
        "30 Days of Python-MachineHack\n",
        "\n",
        "DAY 10 Loops\n"
      ],
      "metadata": {
        "id": "l4U-o2fxCr-E"
      }
    },
    {
      "cell_type": "markdown",
      "source": [
        "Loops in python\n",
        "\n",
        "For Loop\n",
        "\n",
        "Python's for loop understands lists, and when given a list, knows where to begin, how many items are in the list, and where to stop.You never have to tell the for loop anything since it figures thing out on its own.\n",
        "\n",
        "Syntax\n",
        "\n",
        "for items in sequence:\n",
        "\n",
        "         statement\n"
      ],
      "metadata": {
        "id": "3sJf0EliCxEF"
      }
    },
    {
      "cell_type": "code",
      "execution_count": null,
      "metadata": {
        "colab": {
          "base_uri": "https://localhost:8080/"
        },
        "id": "gGGnr0VHCmis",
        "outputId": "e1eed287-84c0-4227-c0f7-4fba40da2530"
      },
      "outputs": [
        {
          "output_type": "stream",
          "name": "stdout",
          "text": [
            "\t M\n",
            "\t a\n",
            "\t c\n",
            "\t h\n",
            "\t i\n",
            "\t n\n",
            "\t e\n",
            "\t h\n",
            "\t a\n",
            "\t c\n",
            "\t k\n"
          ]
        }
      ],
      "source": [
        "#Example\n",
        "src = 'Machinehack'\n",
        "elements = list(src)\n",
        "for items in elements:\n",
        "  print('\\t', items)"
      ]
    },
    {
      "cell_type": "markdown",
      "source": [
        "In the above example, on each iteration, the for loop arranges to take each object in the \"elements\" list and assign them one at a time to another variable, called \"items\". Within the intended loop body, the \"items\" take on the current value of the object being processed by the for a loop. Note that the loop knows when to start iterating when to stop iterating, as well as how many objects are in the letters list.\n",
        "\n",
        "While Loop\n",
        "\n",
        "The Python while loop runs a set of statements continously until a condition is met. When the condition is met, the line immediately after the loop in the programme is performed. A while loop check the condition. If the condition is satified(True), the code within the while loop is run; otherwise, the condition is re evaluated. This procedure is repeated until the condition is false. the loop is terminated when the condition evaluates to False.\n",
        "\n",
        "Syntax\n",
        "\n",
        "While condition:\n",
        "  \n",
        "    body of while loop"
      ],
      "metadata": {
        "id": "WwpOrSNXEBCY"
      }
    },
    {
      "cell_type": "code",
      "source": [
        "#Example\n",
        "i = 0\n",
        "n = 7\n",
        "a = []\n",
        "while i<=n:\n",
        "   a.append(i)\n",
        "   i = i+2\n",
        "print(a)\n",
        "\n",
        "\n",
        "\n",
        "\n"
      ],
      "metadata": {
        "colab": {
          "base_uri": "https://localhost:8080/"
        },
        "id": "MZXylnWvD8FI",
        "outputId": "5a479a7b-b1de-444d-a0c7-8133488a8781"
      },
      "execution_count": null,
      "outputs": [
        {
          "output_type": "stream",
          "name": "stdout",
          "text": [
            "[0, 2, 4, 6]\n"
          ]
        }
      ]
    },
    {
      "cell_type": "markdown",
      "source": [
        "Else statements could also be used with a while loop. The else statement will be executed after the condition evaluates to false.\n"
      ],
      "metadata": {
        "id": "C7t0440aGr9z"
      }
    },
    {
      "cell_type": "code",
      "source": [
        "timer = 0\n",
        "while timer < 3:\n",
        "   print('python')\n",
        "   timer = timer + 1\n",
        "else:\n",
        "    print('30 days')"
      ],
      "metadata": {
        "colab": {
          "base_uri": "https://localhost:8080/"
        },
        "id": "5K_uGt3EGk51",
        "outputId": "55556c83-e4dd-40a0-d581-892cf60ecd90"
      },
      "execution_count": null,
      "outputs": [
        {
          "output_type": "stream",
          "name": "stdout",
          "text": [
            "python\n",
            "python\n",
            "python\n",
            "30 days\n"
          ]
        }
      ]
    },
    {
      "cell_type": "markdown",
      "source": [
        "Nested Loop\n",
        "\n",
        "Multi loop structure contained within the body of the outer loop. Inner and outer loops can be of any type, such as while and for loops. The outer for loop, for example , can include a while loop and vice versa.\n",
        "\n",
        "The outer loop can have several inside loops. There are no restrictions on loop chaining. Nested loops have the same number of iterations as their outer loops multiplied by their inner loops. The inner loop executes all of its iterations during each outer loop iteration. The inner loop resumes and completes its execution for each outer loop iteration. the inner loop resumes and completes its execution for each iteration of an outer loop before the outer loop may continue to its next iteration.\n",
        "\n",
        "Nested loops are commonly employed in multi dimesional data structures, such a sprinting two dimensional arrays and iterating a list that includes a nested list.\n",
        "\n",
        "Syntax\n",
        "\n",
        "for element in sequence\n",
        "\n",
        "  for element in sequnce:\n",
        "\n",
        "        body of inner for loop\n",
        "        \n",
        "  body of outer for"
      ],
      "metadata": {
        "id": "VLXSc1XNHROD"
      }
    },
    {
      "cell_type": "code",
      "source": [
        "#Example\n",
        "a = list()\n",
        "for keys in range(2, 4):\n",
        "   for vals in range(1, 10):\n",
        "          a.append(keys * vals)\n",
        "print(a)"
      ],
      "metadata": {
        "id": "uGdaPKzGHL6g",
        "colab": {
          "base_uri": "https://localhost:8080/"
        },
        "outputId": "2794a22c-182e-48c3-d3da-a7b56133e67b"
      },
      "execution_count": null,
      "outputs": [
        {
          "output_type": "stream",
          "name": "stdout",
          "text": [
            "[2, 4, 6, 8, 10, 12, 14, 16, 18, 3, 6, 9, 12, 15, 18, 21, 24, 27]\n"
          ]
        }
      ]
    },
    {
      "cell_type": "code",
      "source": [],
      "metadata": {
        "id": "o9VJYJuDOEMo"
      },
      "execution_count": null,
      "outputs": []
    }
  ]
}
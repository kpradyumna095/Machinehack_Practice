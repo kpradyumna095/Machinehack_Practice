{
  "nbformat": 4,
  "nbformat_minor": 0,
  "metadata": {
    "colab": {
      "provenance": []
    },
    "kernelspec": {
      "name": "python3",
      "display_name": "Python 3"
    },
    "language_info": {
      "name": "python"
    }
  },
  "cells": [
    {
      "cell_type": "markdown",
      "source": [
        "30 Days of Python-MachineHack\n",
        "\n",
        "DAY 1\n",
        "Introduction and Overview\n"
      ],
      "metadata": {
        "id": "z_gUGkfwEBQL"
      }
    },
    {
      "cell_type": "markdown",
      "source": [
        "Python is a high level scripting langauge for text processing, system management , and internet related activities. Guido van rossum creted python in virginia in the early 1990s. Unlike many comparable languages, its core language is tiny and and simple to learn,but modules maybe added to do pratically continous functions. Python is also a simple object oriented language that is available on a broad range of systems. There is even a python interpreter written entirely in java, bolstering python's reputation as a great answer for internet related problems.\n",
        "Python evolved from a quest to create a computer language that was simple enough for novices to understand but still strong enough for expert users. This background is reflected in python's tiny,concise syntax and the completeness with which principles like object oriented programming are implemented without removing the flexibility to programme in a more conventional approach. As a result, Python is a good choice as a first programming language since it provides the power and sophisticated features that users will eventually want.\n",
        "Python includes numerous capabilities often available exclusivesly in languages that are significantly more difficult to learn and use. These capabilites were built into python from the beginning rether than added afterwards, as with many other programming languages.The purpose of introducing these ideas now is to familiriaze you with how python works and the overall philosophy underlying python programming.\n"
      ],
      "metadata": {
        "id": "w1sRlcD5EzDI"
      }
    },
    {
      "cell_type": "markdown",
      "source": [
        "Syntax\n",
        "\n",
        "Python statements do not need to conclude with a special character semicolon (;). To move on to the next line, just hit\"Enter\"/\"Return\", which indicates that the previous line is finished with an individual statement. Assume, however that a statement extends more than one line. In such an instance, at  the end of the line, use a backslash (/) considered the safest approach, informing python IDE that the line will be continued.\n",
        "\n",
        "Python is flexible while writing programmes, but some rules must always be followed, such as indentation. Indentataions are the white space before the statement itself that signals the existence of loops, rather than delimiters like curly brackets({}) or keywords (like \"begin\" and \"end\"), as many other languages use. The amount of indentation used is insignificant, but it must be constant throughout the depth of a loop, and unindented statements must begin in the first column.\n"
      ],
      "metadata": {
        "id": "Fg4pGYRCKwWW"
      }
    },
    {
      "cell_type": "code",
      "source": [
        "#Syntax for printing a statement in python\n",
        "#print(<\"strings\">, <literals>, <constants>,<expressions>)"
      ],
      "metadata": {
        "id": "g_eLuua7F-y9"
      },
      "execution_count": null,
      "outputs": []
    },
    {
      "cell_type": "code",
      "source": [
        "#input\n",
        "print(\"Hello world is a myth\")"
      ],
      "metadata": {
        "colab": {
          "base_uri": "https://localhost:8080/"
        },
        "id": "2ABpray4PAfl",
        "outputId": "e5a47e37-c235-4964-851b-2e58c1dd5c70"
      },
      "execution_count": null,
      "outputs": [
        {
          "output_type": "stream",
          "name": "stdout",
          "text": [
            "Hello world is a myth\n"
          ]
        }
      ]
    },
    {
      "cell_type": "code",
      "source": [
        "#Syntax when using indentation\n",
        "for i in range(3):\n",
        "  i+=1\n",
        "  print(i)"
      ],
      "metadata": {
        "colab": {
          "base_uri": "https://localhost:8080/"
        },
        "id": "8SVOokfnPR4n",
        "outputId": "84da7d00-b148-476c-e417-bba6a47e0ff2"
      },
      "execution_count": null,
      "outputs": [
        {
          "output_type": "stream",
          "name": "stdout",
          "text": [
            "1\n",
            "2\n",
            "3\n"
          ]
        }
      ]
    },
    {
      "cell_type": "markdown",
      "source": [
        "Above is an example of for loop; there is some white space before the print statement and the variable, which is the indentation. The amount of indentation is maintained overall in the for loop. To understand more efficiently, lets see another example in which there are multiple loops."
      ],
      "metadata": {
        "id": "2NTGxWFWP23y"
      }
    },
    {
      "cell_type": "code",
      "source": [
        "def iterator(nums):\n",
        "   for i in nums:\n",
        "     1\n",
        "     2\n",
        "     3\n",
        "\n",
        "     for j in i:\n",
        "      return j\n",
        "   return i"
      ],
      "metadata": {
        "id": "lGpWBn42PyYs"
      },
      "execution_count": null,
      "outputs": []
    },
    {
      "cell_type": "markdown",
      "source": [
        "In this example,the ratio of white space is maintained all over the code. As observed, once the function 'iterator' is defined, then in the second line, the for loop has an indentation, and inside that for loop, there is another for loop, which has more white spaces as compared to the previous loop."
      ],
      "metadata": {
        "id": "w3MlwdqURlzv"
      }
    },
    {
      "cell_type": "markdown",
      "source": [
        "Variable\n",
        "\n",
        "A variable in a computer language is a memory area where you may store a value.The value you have saved may vary in the future based on the requirements.There are several restrictions on what you may call a variable,also known as identifier.\n"
      ],
      "metadata": {
        "id": "eqF5veDSSuzT"
      }
    },
    {
      "cell_type": "code",
      "source": [
        "#Rules #for naming a variable\n",
        "# *Variables in python can only begin with a letter (A-Z/a-z) or an underscore().\n",
        "1machinehack = 20"
      ],
      "metadata": {
        "colab": {
          "base_uri": "https://localhost:8080/",
          "height": 131
        },
        "id": "2UzzmuPIRAqW",
        "outputId": "07cab208-64fc-4228-aeba-82aa7b14824f"
      },
      "execution_count": null,
      "outputs": [
        {
          "output_type": "error",
          "ename": "SyntaxError",
          "evalue": "ignored",
          "traceback": [
            "\u001b[0;36m  File \u001b[0;32m\"<ipython-input-20-7cfc6702315d>\"\u001b[0;36m, line \u001b[0;32m3\u001b[0m\n\u001b[0;31m    1machinehack = 20\u001b[0m\n\u001b[0m    ^\u001b[0m\n\u001b[0;31mSyntaxError\u001b[0m\u001b[0;31m:\u001b[0m invalid decimal literal\n"
          ]
        }
      ]
    },
    {
      "cell_type": "code",
      "source": [
        "_1machinehack = 20\n",
        "print(_1machinehack)"
      ],
      "metadata": {
        "colab": {
          "base_uri": "https://localhost:8080/"
        },
        "id": "F92eFlvARSR7",
        "outputId": "f5183960-93a7-4aa4-e386-30bb2ce82be2"
      },
      "execution_count": null,
      "outputs": [
        {
          "output_type": "stream",
          "name": "stdout",
          "text": [
            "20\n"
          ]
        }
      ]
    },
    {
      "cell_type": "code",
      "source": [
        "# *The remainder of the identification can include letters (A-Z/a-z),underscores (_), and digits(0-9).\n",
        "machinehack1 = \"Machine Hack\"\n",
        "print(machinehack1)"
      ],
      "metadata": {
        "colab": {
          "base_uri": "https://localhost:8080/"
        },
        "id": "k9_6k7s2yZCM",
        "outputId": "15a0c736-e6e5-48ed-a54b-fcb909a43297"
      },
      "execution_count": null,
      "outputs": [
        {
          "output_type": "stream",
          "name": "stdout",
          "text": [
            "Machine Hack\n"
          ]
        }
      ]
    },
    {
      "cell_type": "code",
      "source": [
        "# *Python is a case sensitive programming language,and so are its variables. Machinehack and machinehack are two different identifiers.\n",
        "Machinehack = \"Machine\"\n",
        "print(machinehack)"
      ],
      "metadata": {
        "colab": {
          "base_uri": "https://localhost:8080/",
          "height": 218
        },
        "id": "gaRIkqugzQxd",
        "outputId": "9ffa7e16-f9c0-4bd2-a456-807f02e2275b"
      },
      "execution_count": null,
      "outputs": [
        {
          "output_type": "error",
          "ename": "NameError",
          "evalue": "ignored",
          "traceback": [
            "\u001b[0;31m---------------------------------------------------------------------------\u001b[0m",
            "\u001b[0;31mNameError\u001b[0m                                 Traceback (most recent call last)",
            "\u001b[0;32m<ipython-input-24-bd2ff1214abb>\u001b[0m in \u001b[0;36m<cell line: 3>\u001b[0;34m()\u001b[0m\n\u001b[1;32m      1\u001b[0m \u001b[0;31m# *Python is a case sensitive programming language,and so are its variables. Machinehack and machinehack are two different identifiers.\u001b[0m\u001b[0;34m\u001b[0m\u001b[0;34m\u001b[0m\u001b[0m\n\u001b[1;32m      2\u001b[0m \u001b[0mMachinehack\u001b[0m \u001b[0;34m=\u001b[0m \u001b[0;34m\"Machine\"\u001b[0m\u001b[0;34m\u001b[0m\u001b[0;34m\u001b[0m\u001b[0m\n\u001b[0;32m----> 3\u001b[0;31m \u001b[0mprint\u001b[0m\u001b[0;34m(\u001b[0m\u001b[0mmachinehack\u001b[0m\u001b[0;34m)\u001b[0m\u001b[0;34m\u001b[0m\u001b[0;34m\u001b[0m\u001b[0m\n\u001b[0m",
            "\u001b[0;31mNameError\u001b[0m: name 'machinehack' is not defined"
          ]
        }
      ]
    },
    {
      "cell_type": "code",
      "source": [
        "Machinehack = \"Machine\"\n",
        "machinehack = \"Learning\"\n",
        "print(Machinehack, machinehack)"
      ],
      "metadata": {
        "colab": {
          "base_uri": "https://localhost:8080/"
        },
        "id": "tamLj-tsz3Ja",
        "outputId": "ea89f21a-90a4-4a34-de6d-64c848e45d05"
      },
      "execution_count": null,
      "outputs": [
        {
          "output_type": "stream",
          "name": "stdout",
          "text": [
            "Machine Learning\n"
          ]
        }
      ]
    },
    {
      "cell_type": "markdown",
      "source": [
        "Assignment of value\n",
        "\n",
        "To assign a value to python variables, there is no need to declare the value's data type. Once the variable name is done according to the above defined rules, just type the valu after the equal sign (=).\n"
      ],
      "metadata": {
        "id": "IlMfgO-G0N1v"
      }
    },
    {
      "cell_type": "code",
      "source": [
        "#Syntax\n",
        "#Variablename = &amp;amp;amp;nbsp; value\n",
        "#The above syntax means whatever is on the right side of the equals sign is assigned\n",
        "# to the left side of the equals sign. According to this, the identifier could not be placed\n",
        "# on the right hand side of the equal sign. IF the syntax is not correctly used, then python\n",
        "# throws an error something like the below:\n",
        "20 = value"
      ],
      "metadata": {
        "colab": {
          "base_uri": "https://localhost:8080/",
          "height": 149
        },
        "id": "xfJ8m6a00KIX",
        "outputId": "4deffbb6-fa9e-438f-d161-55d21f23f9c9"
      },
      "execution_count": null,
      "outputs": [
        {
          "output_type": "error",
          "ename": "SyntaxError",
          "evalue": "ignored",
          "traceback": [
            "\u001b[0;36m  File \u001b[0;32m\"<ipython-input-27-c8597e8b6dc8>\"\u001b[0;36m, line \u001b[0;32m7\u001b[0m\n\u001b[0;31m    20 = value\u001b[0m\n\u001b[0m    ^\u001b[0m\n\u001b[0;31mSyntaxError\u001b[0m\u001b[0;31m:\u001b[0m cannot assign to literal here. Maybe you meant '==' instead of '='?\n"
          ]
        }
      ]
    },
    {
      "cell_type": "code",
      "source": [
        "# Suppose there is a need to assign multiple values to multiple identifiers\n",
        "# but need to shorten the lines used in the code. So multiple assignment methods\n",
        "# could be used using comma (,) on both sides of the equal sign since python is a sequential\n",
        "# programming language so the assignment of the values should also be in the desired sequence.\n",
        "Machinehack, machinehack = \"Machine\", \"Learning\"\n",
        "print(Machinehack, machinehack)"
      ],
      "metadata": {
        "colab": {
          "base_uri": "https://localhost:8080/"
        },
        "id": "3RE0mz_F1Eua",
        "outputId": "207d0e80-51b8-40ce-ce12-745087abd636"
      },
      "execution_count": null,
      "outputs": [
        {
          "output_type": "stream",
          "name": "stdout",
          "text": [
            "Machine Learning\n"
          ]
        }
      ]
    },
    {
      "cell_type": "code",
      "source": [
        "# If there is the same value that is needed to be assigned to two or more\n",
        "# variables, then the below mwthod could be used.\n",
        "Machinehack = machinehack = \"Machine\"\n",
        "print(Machinehack, machinehack)"
      ],
      "metadata": {
        "colab": {
          "base_uri": "https://localhost:8080/"
        },
        "id": "Yf1rKE6N3isI",
        "outputId": "11df29fa-7198-4d74-fd80-077ca7e3854a"
      },
      "execution_count": null,
      "outputs": [
        {
          "output_type": "stream",
          "name": "stdout",
          "text": [
            "Machine Machine\n"
          ]
        }
      ]
    },
    {
      "cell_type": "code",
      "source": [
        "#Deleting variables\n",
        "#The variables could be deleted using the \"del\" function.\n",
        "Machinehack, machinehack,mh = \"Machine\", \"Learning\", 1\n",
        "del mh\n",
        "print(Machinehack,machinehack,mh)"
      ],
      "metadata": {
        "colab": {
          "base_uri": "https://localhost:8080/",
          "height": 201
        },
        "id": "8sFRss0C4Kiv",
        "outputId": "2dd19cea-9393-472c-a840-6aca6420b05a"
      },
      "execution_count": null,
      "outputs": [
        {
          "output_type": "error",
          "ename": "NameError",
          "evalue": "ignored",
          "traceback": [
            "\u001b[0;31m---------------------------------------------------------------------------\u001b[0m",
            "\u001b[0;31mNameError\u001b[0m                                 Traceback (most recent call last)",
            "\u001b[0;32m<ipython-input-30-541493256f21>\u001b[0m in \u001b[0;36m<cell line: 5>\u001b[0;34m()\u001b[0m\n\u001b[1;32m      3\u001b[0m \u001b[0mMachinehack\u001b[0m\u001b[0;34m,\u001b[0m \u001b[0mmachinehack\u001b[0m\u001b[0;34m,\u001b[0m\u001b[0mmh\u001b[0m \u001b[0;34m=\u001b[0m \u001b[0;34m\"Machine\"\u001b[0m\u001b[0;34m,\u001b[0m \u001b[0;34m\"Learning\"\u001b[0m\u001b[0;34m,\u001b[0m \u001b[0;36m1\u001b[0m\u001b[0;34m\u001b[0m\u001b[0;34m\u001b[0m\u001b[0m\n\u001b[1;32m      4\u001b[0m \u001b[0;32mdel\u001b[0m \u001b[0mmh\u001b[0m\u001b[0;34m\u001b[0m\u001b[0;34m\u001b[0m\u001b[0m\n\u001b[0;32m----> 5\u001b[0;31m \u001b[0mprint\u001b[0m\u001b[0;34m(\u001b[0m\u001b[0mMachinehack\u001b[0m\u001b[0;34m,\u001b[0m\u001b[0mmachinehack\u001b[0m\u001b[0;34m,\u001b[0m\u001b[0mmh\u001b[0m\u001b[0;34m)\u001b[0m\u001b[0;34m\u001b[0m\u001b[0;34m\u001b[0m\u001b[0m\n\u001b[0m",
            "\u001b[0;31mNameError\u001b[0m: name 'mh' is not defined"
          ]
        }
      ]
    },
    {
      "cell_type": "markdown",
      "source": [
        "Data Types\n",
        "\n",
        "The classification or categorising of data elements is reffered to as data types. It represents the kind of values that specifies which operations may\n",
        "be done on a given piece of data. Because everything in python programming is an object, data types are classes and variables are instances objects of these\n",
        "classes.\n",
        "\n",
        "There are five categories of data types.\n",
        "\n",
        " *Numeric\n",
        "\n",
        " *Dictionary\n",
        "\n",
        " *Boolean\n",
        "\n",
        " *Set\n",
        "\n",
        " *Sequence type\n"
      ],
      "metadata": {
        "id": "RO9W5fVa5IwP"
      }
    },
    {
      "cell_type": "markdown",
      "source": [
        "Numeric\n",
        "\n",
        "The numerics data type in python represent data with a numeric value. An integer, a Floating number, or even a complex number can be used to represent\n",
        "a numeric value. In python, these values are represented by the int, float, and complex classes.\n",
        "\n",
        "The int class represents the value of integers. It has either positive or negative whole numbers(without fractions or decimals). In python, there is no limit on the length of an integer number.\n",
        "\n",
        "The float class represents the float value. It is a real number represented in a floating point. A decimal point is used to specify it. The letter e or E followed by a positive or negative number may be inserted to express scientific notation."
      ],
      "metadata": {
        "id": "RxBbqt6l6uqU"
      }
    },
    {
      "cell_type": "code",
      "source": [
        "#A complex class represents complex numbers. The formula is (real part) + (imaginary part). ex., 5+6j\n",
        "integer_value = 2\n",
        "float_value = 1.4\n",
        "complex_value = 1+1.4j\n",
        "print(\"Interger value :\", integer_value, type(integer_value),\n",
        "      \"\\nFloat value :\", float_value, type(float_value),\n",
        "      \"\\nComplex value:\", complex_value,type(complex_value))"
      ],
      "metadata": {
        "colab": {
          "base_uri": "https://localhost:8080/"
        },
        "id": "8VdS4we44zlq",
        "outputId": "cfb06a51-a732-4872-d4c4-fc7be9d97ab4"
      },
      "execution_count": null,
      "outputs": [
        {
          "output_type": "stream",
          "name": "stdout",
          "text": [
            "Interger value : 2 <class 'int'> \n",
            "Float value : 1.4 <class 'float'> \n",
            "Complex value: (1+1.4j) <class 'complex'>\n"
          ]
        }
      ]
    },
    {
      "cell_type": "markdown",
      "source": [
        "Dictionary\n",
        "\n",
        "A dictionary in python language could be defined as an unordered collection of values that may be used to store data like a map.Dictionary could hold multiple data types. To create a dictionary, use curlbraces({}), and inside it , the data seperated using a comma(,).It could also be created using the in built function dict(). The dictionary includes key value pairs to make it more optimised. There is a key and a value pairs to make it more optimised. There is a key and value in which the variable and value are stored, respectively. The key and value pair are seperated using a colon(:).\n",
        "\n"
      ],
      "metadata": {
        "id": "qZjVFj42-YOn"
      }
    },
    {
      "cell_type": "code",
      "source": [
        "#Empty Dictionary\n",
        "empty_dict = {}\n",
        "print(\"Empty Dictionary:\", empty_dict)"
      ],
      "metadata": {
        "id": "ZEdQKJbH-Bqc",
        "colab": {
          "base_uri": "https://localhost:8080/"
        },
        "outputId": "2c8e3eea-6394-41e1-c00f-23f83a0a8182"
      },
      "execution_count": null,
      "outputs": [
        {
          "output_type": "stream",
          "name": "stdout",
          "text": [
            "Empty Dictionary: {}\n"
          ]
        }
      ]
    },
    {
      "cell_type": "code",
      "source": [
        "#Dictionary with keys and values, but the keys are only integer type\n",
        "int_dict = {1: \"Machine\", 2:\"Hacking\", 3:\"for\", 4:\"learning\"}\n",
        "print(\"Dictionary with the Integer Keys: \", int_dict)"
      ],
      "metadata": {
        "colab": {
          "base_uri": "https://localhost:8080/"
        },
        "id": "CbVxYsPeKP8C",
        "outputId": "41c452eb-adf2-430f-8b3d-3c139d17ab77"
      },
      "execution_count": null,
      "outputs": [
        {
          "output_type": "stream",
          "name": "stdout",
          "text": [
            "Dictionary with the Integer Keys:  {1: 'Machine', 2: 'Hacking', 3: 'for', 4: 'learning'}\n"
          ]
        }
      ]
    },
    {
      "cell_type": "code",
      "source": [
        "#Dictionary with keys and values with multi data types keys.\n",
        "mul_dict = {\"Name\": \"Machine Hack\", 2:[1,2,3,4]}\n",
        "print(\"dictionary with the mixed keys:\", mul_dict)"
      ],
      "metadata": {
        "colab": {
          "base_uri": "https://localhost:8080/"
        },
        "id": "M_cNdHZILC9u",
        "outputId": "1f0787e7-6ecd-49e2-a72d-826c2a04c7ba"
      },
      "execution_count": null,
      "outputs": [
        {
          "output_type": "stream",
          "name": "stdout",
          "text": [
            "dictionary with the mixed keys: {'Name': 'Machine Hack', 2: [1, 2, 3, 4]}\n"
          ]
        }
      ]
    },
    {
      "cell_type": "code",
      "source": [
        "#Dictionaries created using the built in functions of python.\n",
        "inbuilt_dict = dict([(1, \"Machine\"), (2,\"Hack\")])\n",
        "print(\"Dictionary formed by using in built function:\", inbuilt_dict)"
      ],
      "metadata": {
        "colab": {
          "base_uri": "https://localhost:8080/"
        },
        "id": "190ibeTHLoJl",
        "outputId": "894856a2-875c-4e41-d370-1b5c1d2aee42"
      },
      "execution_count": null,
      "outputs": [
        {
          "output_type": "stream",
          "name": "stdout",
          "text": [
            "Dictionary formed by using in built function: {1: 'Machine', 2: 'Hack'}\n"
          ]
        }
      ]
    },
    {
      "cell_type": "markdown",
      "source": [
        "Boolean\n",
        "\n",
        "True or False are the two built in values for data types and are represented by class bool. True Boolean objects are truthy(true), while False boolean thing are falsy(false). Non Boolean items, on the other hand, can be evaluated in a boolean context and judges to true or false."
      ],
      "metadata": {
        "id": "QnNlYnVxMRdf"
      }
    },
    {
      "cell_type": "code",
      "source": [
        "flag_1 = True\n",
        "flag_2 = False\n",
        "print(\"Data type of 1st flag: \", type(flag_1),\n",
        "      \"\\nData type of 2nd flag:\", type(flag_2))"
      ],
      "metadata": {
        "colab": {
          "base_uri": "https://localhost:8080/"
        },
        "id": "CHXxhJ_uMKgG",
        "outputId": "718ac27c-eb85-4801-d684-a0a153c1f925"
      },
      "execution_count": null,
      "outputs": [
        {
          "output_type": "stream",
          "name": "stdout",
          "text": [
            "Data type of 1st flag:  <class 'bool'> \n",
            "Data type of 2nd flag: <class 'bool'>\n"
          ]
        }
      ]
    },
    {
      "cell_type": "markdown",
      "source": [
        "Set\n",
        "\n",
        "Set is an unordered collection of data types in python that is iterable,changeable, and contains no duplicate elements. The order of the items in a set is unknown, yet it may contain several elements.\n",
        "\n",
        "Sets may be formed by using the built in set() method with an iterable object or a sequence enclosed in curly braces seperated by a \"comma\".A set's elements do not have to be of the same type;other mixed up data type values can also be provided to the set."
      ],
      "metadata": {
        "id": "3jqU4wBfNg9R"
      }
    },
    {
      "cell_type": "code",
      "source": [
        "#Blank set\n",
        "blank_set= set()\n",
        "print(\"Initial Blank Set :\", blank_set)"
      ],
      "metadata": {
        "colab": {
          "base_uri": "https://localhost:8080/"
        },
        "id": "9IZlOBQSNcgg",
        "outputId": "9f48a2b7-7af0-4e9c-b588-12e5ecb10861"
      },
      "execution_count": null,
      "outputs": [
        {
          "output_type": "stream",
          "name": "stdout",
          "text": [
            "Initial Blank Set : set()\n"
          ]
        }
      ]
    },
    {
      "cell_type": "code",
      "source": [
        "#Set with single value\n",
        "set_string = set(\"Machienhack\")\n",
        "print(\"Set wit single data :\", set_string)"
      ],
      "metadata": {
        "colab": {
          "base_uri": "https://localhost:8080/"
        },
        "id": "c807QZVhPMJJ",
        "outputId": "32fb581b-7508-45a2-de43-517e35247549"
      },
      "execution_count": null,
      "outputs": [
        {
          "output_type": "stream",
          "name": "stdout",
          "text": [
            "Set wit single data : {'h', 'i', 'a', 'e', 'k', 'n', 'M', 'c'}\n"
          ]
        }
      ]
    },
    {
      "cell_type": "code",
      "source": [
        "#Srt with multi data in an array\n",
        "set_list = set([7, 1, \"Machine\", 5, \"Hack\", .9, \"MH\"])\n",
        "print(\"Set with the list of multi data type:\", set_list)"
      ],
      "metadata": {
        "colab": {
          "base_uri": "https://localhost:8080/"
        },
        "id": "GUkzF6wCPjHx",
        "outputId": "0c246d08-798b-4544-9bd6-ebe6580837a7"
      },
      "execution_count": null,
      "outputs": [
        {
          "output_type": "stream",
          "name": "stdout",
          "text": [
            "Set with the list of multi data type: {0.9, 1, 'Machine', 5, 7, 'MH', 'Hack'}\n"
          ]
        }
      ]
    },
    {
      "cell_type": "markdown",
      "source": [
        "Sequence type\n",
        "\n",
        "In Python, a sequence is an ordered collection of data types that are similar or dissimilar . Sequences enable the structured and effiecient storage of several variables.\n",
        "\n",
        "There are three types:\n",
        "\n",
        " *Strings\n",
        "\n",
        " *List\n",
        "\n",
        " *Tuple\n",
        "\n",
        " Strings are arrays of bytes that represents Unicode characters and are represented by an str class. A string is a group of one or more characters enclosed by a single, double, or triple quotation. Python has no character data type;a character is a one length string.\n",
        "\n",
        " Strings in python can be constructed using single, double or triple quotes. Individual characters of a string can be obtained in python using the indexing function. Indexing enables negative address references to access characters from the reverse order. For example, -1 refers to the last character, -2 corresponds tothe second last character and so on."
      ],
      "metadata": {
        "id": "fTwtDcCMQOK4"
      }
    },
    {
      "cell_type": "code",
      "source": [
        "single_str = 'welcome to the Machine Hack'\n",
        "double_str = \"I'm a learner\"\n",
        "triple_str = '''Hello world is a myth'''\n",
        "print(\"Single Quotes string: \", single_str)\n",
        "print(\"Double Quotes string: \", double_str)\n",
        "print(\"Triple Quotes string: \", triple_str)"
      ],
      "metadata": {
        "colab": {
          "base_uri": "https://localhost:8080/"
        },
        "id": "6WoQE_WOQI1H",
        "outputId": "6cd16ba9-5eed-4526-da93-25da1a4ae5e8"
      },
      "execution_count": null,
      "outputs": [
        {
          "output_type": "stream",
          "name": "stdout",
          "text": [
            "Single Quotes string:  welcome to the Machine Hack\n",
            "Double Quotes string:  I'm a learner\n",
            "Triple Quotes string:  Hello world is a myth\n"
          ]
        }
      ]
    },
    {
      "cell_type": "markdown",
      "source": [
        "Lists are an ordered collection of data, similar to arrays defined in other languages. It is particularly adaptable since list elements do not have to be similar."
      ],
      "metadata": {
        "id": "tX7Iu7JcTgoj"
      }
    },
    {
      "cell_type": "code",
      "source": [
        "#Empty List\n",
        "empty_list = []\n",
        "print(\"Empty List :\", empty_list)"
      ],
      "metadata": {
        "colab": {
          "base_uri": "https://localhost:8080/"
        },
        "id": "PlxRYg3dTcpo",
        "outputId": "0aedade7-4837-473e-bd3c-554dda357063"
      },
      "execution_count": null,
      "outputs": [
        {
          "output_type": "stream",
          "name": "stdout",
          "text": [
            "Empty List : []\n"
          ]
        }
      ]
    },
    {
      "cell_type": "code",
      "source": [
        "#Retrieving data\n",
        "input_list = [\"Machine\", \"Hack\", \"MH\"]\n",
        "print(\"Retrieving the data from index 0:\", input_list[0],\n",
        "      \"\\nRetrieving the data from index 1: \", input_list[1])"
      ],
      "metadata": {
        "colab": {
          "base_uri": "https://localhost:8080/"
        },
        "id": "hXbPD-iIUKgJ",
        "outputId": "2a2dfe5c-b151-4f63-c756-847915e27e58"
      },
      "execution_count": null,
      "outputs": [
        {
          "output_type": "stream",
          "name": "stdout",
          "text": [
            "Retrieving the data from index 0: Machine \n",
            "Retrieving the data from index 1:  Hack\n"
          ]
        }
      ]
    },
    {
      "cell_type": "code",
      "source": [
        "#Nested List\n",
        "nested_list = [['Machine', 'Hack'], ['python']]\n",
        "print(\"nested list:\", nested_list)"
      ],
      "metadata": {
        "colab": {
          "base_uri": "https://localhost:8080/"
        },
        "id": "3kbmWLccUuwM",
        "outputId": "86a9f18d-b877-42d1-9b04-81d4cdfef95a"
      },
      "execution_count": null,
      "outputs": [
        {
          "output_type": "stream",
          "name": "stdout",
          "text": [
            "nested list: [['Machine', 'Hack'], ['python']]\n"
          ]
        }
      ]
    },
    {
      "cell_type": "markdown",
      "source": [
        "Tuple is an other name for an ordered collection of python objects. The main distiction between a tuple and a list is that tuples are immutable, which means they cannot be updated once they are generated. A tuple class is used to represent it.\n",
        "\n",
        "tuples are produced in python by inserting a sequence of values seperated by a comma, with or without the use of parenthesis, to organise the data sequence. Tuples can have any number of items and datatypes(like string, integers, lists, etc.)"
      ],
      "metadata": {
        "id": "vEKlTNX4VGn6"
      }
    },
    {
      "cell_type": "code",
      "source": [
        "#Empty tuple\n",
        "empty_tuple = ()\n",
        "print(\"An empty tuple :\", empty_tuple)"
      ],
      "metadata": {
        "colab": {
          "base_uri": "https://localhost:8080/"
        },
        "id": "IqAUQHn1VD38",
        "outputId": "140e7baf-7022-43c9-d5f3-e20ba18bd121"
      },
      "execution_count": null,
      "outputs": [
        {
          "output_type": "stream",
          "name": "stdout",
          "text": [
            "An empty tuple : ()\n"
          ]
        }
      ]
    },
    {
      "cell_type": "code",
      "source": [
        "#Nested tuple\n",
        "num_tuple = (0,1,2,3)\n",
        "char_tuple = ('Machine Hack', 'python')\n",
        "nested_tuple = (num_tuple, char_tuple)\n",
        "print(\"nested tuple:\", nested_tuple)"
      ],
      "metadata": {
        "colab": {
          "base_uri": "https://localhost:8080/"
        },
        "id": "kRflBoXOWYQ9",
        "outputId": "a6afd568-bcd9-42d7-c055-f466f01ce5b6"
      },
      "execution_count": null,
      "outputs": [
        {
          "output_type": "stream",
          "name": "stdout",
          "text": [
            "nested tuple: ((0, 1, 2, 3), ('Machine Hack', 'python'))\n"
          ]
        }
      ]
    },
    {
      "cell_type": "code",
      "source": [],
      "metadata": {
        "id": "q4f4slAPW3nY"
      },
      "execution_count": null,
      "outputs": []
    }
  ]
}
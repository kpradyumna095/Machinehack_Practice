{
  "nbformat": 4,
  "nbformat_minor": 0,
  "metadata": {
    "colab": {
      "provenance": []
    },
    "kernelspec": {
      "name": "python3",
      "display_name": "Python 3"
    },
    "language_info": {
      "name": "python"
    }
  },
  "cells": [
    {
      "cell_type": "markdown",
      "source": [
        "\n",
        "\n",
        "30 Days of Python-MachineHack\n",
        "\n",
        "DAY 5 Dictionaries\n"
      ],
      "metadata": {
        "id": "BeyeXa6w9i_v"
      }
    },
    {
      "cell_type": "markdown",
      "source": [
        "Python Dictionary\n",
        "\n",
        "A dictionary is an unsorted collection of key/value pairs. In other programming languages, a dictionary is an associative array, map, symbol table or hash. Each unique key in the dictionary has a value associated with it,and there is no limit to adding these pairs. Any object can be connected with a keys values. A dictionary object is a mutable object because the values can be changes update and delete at the same memory location.\n",
        "\n",
        "Dictionaries are unordered and mutable. It can be useful to think of python's dictionary as a two columned, multi row data structure , Like list, dictionaries can grow on demand. The internal ordering used by the interpreter is not reliable. To be specific, the order in which the key value pairs are appended in the dictionary is not maintained by the interpreter.\n",
        "\n",
        "To initialize the dictionary, there are two methods one is by using the curly brackets, and the other is by using the in built function dict().\n",
        "\n",
        "Syntax\n",
        "\n",
        "empty_dict = {}\n",
        "\n",
        "dict{}"
      ],
      "metadata": {
        "id": "bkXQNEw2-QFx"
      }
    },
    {
      "cell_type": "code",
      "execution_count": null,
      "metadata": {
        "colab": {
          "base_uri": "https://localhost:8080/"
        },
        "id": "B78OYRwq9bD1",
        "outputId": "c04950e1-82c6-4e30-cf2c-b16a62e904bf"
      },
      "outputs": [
        {
          "output_type": "stream",
          "name": "stdout",
          "text": [
            "Empty Dictionary :  {}\n"
          ]
        }
      ],
      "source": [
        "empty_dict = {}\n",
        "print(\"Empty Dictionary : \", empty_dict)"
      ]
    },
    {
      "cell_type": "code",
      "source": [
        "int_dict = {1:'Machine', 2:'Hacking', 3:'for', 4:'learning'}\n",
        "print(\"Dictionary with the integer keys: \", int_dict)"
      ],
      "metadata": {
        "colab": {
          "base_uri": "https://localhost:8080/"
        },
        "id": "hg2DhupXB_6c",
        "outputId": "d0e395e8-dc2f-47d5-dc72-061b920aa106"
      },
      "execution_count": null,
      "outputs": [
        {
          "output_type": "stream",
          "name": "stdout",
          "text": [
            "Dictionary with the integer keys:  {1: 'Machine', 2: 'Hacking', 3: 'for', 4: 'learning'}\n"
          ]
        }
      ]
    },
    {
      "cell_type": "code",
      "source": [
        "inbuilt_dict = dict([(1, 'Machine'), (2, 'Hack')])\n",
        "print(\"Dictionary formed by using in built function: \", inbuilt_dict)"
      ],
      "metadata": {
        "colab": {
          "base_uri": "https://localhost:8080/"
        },
        "id": "U9YH-2FbCiG_",
        "outputId": "36abd24b-f50b-4e0d-f181-87c7bf57a7a2"
      },
      "execution_count": null,
      "outputs": [
        {
          "output_type": "stream",
          "name": "stdout",
          "text": [
            "Dictionary formed by using in built function:  {1: 'Machine', 2: 'Hack'}\n"
          ]
        }
      ]
    },
    {
      "cell_type": "markdown",
      "source": [
        "Dictionary operations\n",
        "\n",
        "here are frequently used operations related to the dictionary.\n",
        "\n",
        "Accessing a dictionary object\n",
        "One needs to use the key assigned to the particular value to retrieve the items of a dictionary, specifically the values stored in the dictionary. The value could be retrieved using the square brackets or the inbuilt function get()"
      ],
      "metadata": {
        "id": "PTtAD7NCDISL"
      }
    },
    {
      "cell_type": "code",
      "source": [
        "inbuilt_dict = dict([(1, 'Machine'), (2, 'Hack'), ('Purpose', 'Machine')])\n",
        "print(\"Accessing the value using square bracs : \", inbuilt_dict['Purpose'])\n",
        "print(\"Accessing the value using in built function : \", inbuilt_dict.get('Purpose'))"
      ],
      "metadata": {
        "colab": {
          "base_uri": "https://localhost:8080/"
        },
        "id": "pxtvjIzACyj3",
        "outputId": "63b4080c-67df-4a30-8a95-62693f724cad"
      },
      "execution_count": null,
      "outputs": [
        {
          "output_type": "stream",
          "name": "stdout",
          "text": [
            "Accessing the value using square bracs :  Machine\n",
            "Accessing the value using in built function :  Machine\n"
          ]
        }
      ]
    },
    {
      "cell_type": "markdown",
      "source": [
        "Adding, updating and deleting\n",
        "\n",
        "The key value pair could be added to the existing dictionary by using the square brackets. The keys are the indexes of the values, so to add a value define a key and , by using the equal sign, assign the value to that key. This method could be used to update the value of an existing key.\n",
        "\n",
        "syntax\n",
        "\n",
        "dict[key]=value\n"
      ],
      "metadata": {
        "id": "8KTWpSj4GYgL"
      }
    },
    {
      "cell_type": "code",
      "source": [
        "#Example\n",
        "inbuilt_dict = dict([(1, 'Machine'), (2, 'Hack'), ('Purpose', 'Machine Learning')])\n",
        "inbuilt_dict[3] = 'Python'\n",
        "print(inbuilt_dict)"
      ],
      "metadata": {
        "colab": {
          "base_uri": "https://localhost:8080/"
        },
        "id": "8so7stpmGObW",
        "outputId": "2d93fea4-f2ce-44c8-b651-9c7d5483eb7c"
      },
      "execution_count": null,
      "outputs": [
        {
          "output_type": "stream",
          "name": "stdout",
          "text": [
            "{1: 'Machine', 2: 'Hack', 'Purpose': 'Machine Learning', 3: 'Python'}\n"
          ]
        }
      ]
    },
    {
      "cell_type": "markdown",
      "source": [
        "The update() function could be used to add or update the values or key. In the update function, the argument passed could be a dictionary or iterable.\n",
        "\n",
        "syntax\n",
        "\n",
        "dict.update()"
      ],
      "metadata": {
        "id": "NkFRN59PJMXQ"
      }
    },
    {
      "cell_type": "code",
      "source": [
        "#Example\n",
        "inbuilt_dict = dict([(1, 'Machine'), (2, 'Hack'), ('Purpose', 'Machine Learning')])\n",
        "up_dict = dict([(3,'Python')])\n",
        "inbuilt_dict.update(up_dict)\n",
        "print(inbuilt_dict)"
      ],
      "metadata": {
        "colab": {
          "base_uri": "https://localhost:8080/"
        },
        "id": "KAo3h_gLI6Z3",
        "outputId": "458d8b88-b67a-4813-b62f-38070395abe1"
      },
      "execution_count": null,
      "outputs": [
        {
          "output_type": "stream",
          "name": "stdout",
          "text": [
            "{1: 'Machine', 2: 'Hack', 'Purpose': 'Machine Learning', 3: 'Python'}\n"
          ]
        }
      ]
    },
    {
      "cell_type": "code",
      "source": [
        "inbuilt_dict = dict([(1, 'Machine'), (2, 'Hack'), ('Purpose', 'Machine Learning')])\n",
        "inbuilt_dict.update(A=30,B='days')\n",
        "inbuilt_dict.update({1:'learn'})\n",
        "print(inbuilt_dict)"
      ],
      "metadata": {
        "colab": {
          "base_uri": "https://localhost:8080/"
        },
        "id": "2itjSNH5KSEI",
        "outputId": "27c1a931-4d24-4843-91aa-18121e6e7309"
      },
      "execution_count": null,
      "outputs": [
        {
          "output_type": "stream",
          "name": "stdout",
          "text": [
            "{1: 'learn', 2: 'Hack', 'Purpose': 'Machine Learning', 'A': 30, 'B': 'days'}\n"
          ]
        }
      ]
    },
    {
      "cell_type": "markdown",
      "source": [
        "For deleting a value key pair use the del() function.\n",
        "\n",
        "syntax\n",
        "\n",
        "del dict[key]"
      ],
      "metadata": {
        "id": "zw8BvL-lZC6z"
      }
    },
    {
      "cell_type": "code",
      "source": [
        "#Example\n",
        "in_dict =  {1: 'learn', 2: 'Hack', 'Purpose': 'Machine learning', 3: 'Python', 'A':30, 'B': 'days'}\n",
        "del in_dict['A']\n",
        "print(in_dict)"
      ],
      "metadata": {
        "colab": {
          "base_uri": "https://localhost:8080/"
        },
        "id": "CikL3Mx6Y5o7",
        "outputId": "9fc53e15-4456-4979-d598-f081dc031419"
      },
      "execution_count": null,
      "outputs": [
        {
          "output_type": "stream",
          "name": "stdout",
          "text": [
            "{1: 'learn', 2: 'Hack', 'Purpose': 'Machine learning', 3: 'Python', 'B': 'days'}\n"
          ]
        }
      ]
    },
    {
      "cell_type": "markdown",
      "source": [
        "Retrieve values and keys\n",
        "\n",
        "The function values() returns an object containing all the values of the specified dictionary. Similarly, the keys() return an object containing all the keys of the dictionary.\n",
        "\n",
        "syntax\n",
        "\n",
        "dict.keys()\n",
        "\n",
        "dict.values()"
      ],
      "metadata": {
        "id": "VGxHAWFwaMMa"
      }
    },
    {
      "cell_type": "code",
      "source": [
        "#Example\n",
        "in_dict = {1: 'learn', 2: 'Hack', 'Purpose' : 'Machine learning', 3: 'Python', 'A':30, 'B': 'days' }\n",
        "print(\"keys of dictionary : \", in_dict.keys())\n",
        "print(\"values of dictionary : \", in_dict.values())"
      ],
      "metadata": {
        "colab": {
          "base_uri": "https://localhost:8080/"
        },
        "id": "Nv6I1r_ZaECU",
        "outputId": "40a35a09-fc2a-4d12-aefd-045584ede1fe"
      },
      "execution_count": null,
      "outputs": [
        {
          "output_type": "stream",
          "name": "stdout",
          "text": [
            "keys of dictionary :  dict_keys([1, 2, 'Purpose', 3, 'A', 'B'])\n",
            "values of dictionary :  dict_values(['learn', 'Hack', 'Machine learning', 'Python', 30, 'days'])\n"
          ]
        }
      ]
    },
    {
      "cell_type": "markdown",
      "source": [
        "Dictionary Membership Test\n",
        "\n",
        "It is possible to check whether a certain key exists in the existing dictionary. this is test valid only for the keys, not for the values. To check need to use the special inbuilt function 'in' and 'not in'. The function returns the boolean values True and False.\n",
        "\n",
        "Syntax\n",
        "\n",
        "key in dict"
      ],
      "metadata": {
        "id": "-65oAQn6b0Vx"
      }
    },
    {
      "cell_type": "code",
      "source": [
        "#Example\n",
        "in_dict = {1: 'learn', 2:'Hack', 'Purpose': 'Machine Learning', 3:'Python', 'A': 30, 'B':'days'}\n",
        "del in_dict['A']\n",
        "print(\"Checking the key 'A' exist: \", 'A' in in_dict)\n"
      ],
      "metadata": {
        "colab": {
          "base_uri": "https://localhost:8080/"
        },
        "id": "b0eQ8RDubwOe",
        "outputId": "c9d61ca7-82bb-4692-b33f-0ddc1b12f03d"
      },
      "execution_count": null,
      "outputs": [
        {
          "output_type": "stream",
          "name": "stdout",
          "text": [
            "Checking the key 'A' exist:  False\n"
          ]
        }
      ]
    },
    {
      "cell_type": "markdown",
      "source": [
        "Iterating through the dictionary\n",
        "\n",
        "It is also an iterable object just like the list. The dictionary could be iterated through by using a for loop.\n"
      ],
      "metadata": {
        "id": "3wJW6qt4dwgR"
      }
    },
    {
      "cell_type": "code",
      "source": [
        "in_dict = {1: 'learn', 2: 'Hack', 'Purpose': 'Machine learning', 3: 'Python', 'A':30, 'B': 'days'}\n",
        "for i in in_dict:\n",
        "  print(i)\n",
        "  print(in_dict[i])"
      ],
      "metadata": {
        "colab": {
          "base_uri": "https://localhost:8080/"
        },
        "id": "NvovU3-odrx4",
        "outputId": "e76013d2-3dd0-431c-edd0-1d5cd302ffd8"
      },
      "execution_count": null,
      "outputs": [
        {
          "output_type": "stream",
          "name": "stdout",
          "text": [
            "1\n",
            "learn\n",
            "2\n",
            "Hack\n",
            "Purpose\n",
            "Machine learning\n",
            "3\n",
            "Python\n",
            "A\n",
            "30\n",
            "B\n",
            "days\n"
          ]
        }
      ]
    },
    {
      "cell_type": "code",
      "source": [],
      "metadata": {
        "id": "LVzk3IB5e5U1"
      },
      "execution_count": null,
      "outputs": []
    }
  ]
}
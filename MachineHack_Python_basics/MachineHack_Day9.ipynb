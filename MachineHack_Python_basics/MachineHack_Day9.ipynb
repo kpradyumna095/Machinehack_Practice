{
  "nbformat": 4,
  "nbformat_minor": 0,
  "metadata": {
    "colab": {
      "provenance": []
    },
    "kernelspec": {
      "name": "python3",
      "display_name": "Python 3"
    },
    "language_info": {
      "name": "python"
    }
  },
  "cells": [
    {
      "cell_type": "markdown",
      "source": [
        "\n",
        "\n",
        "30 Days of Python-MachineHack\n",
        "\n",
        "DAY 9 Conditional statements\n"
      ],
      "metadata": {
        "id": "ZvqUyOresylb"
      }
    },
    {
      "cell_type": "markdown",
      "source": [
        "The codes are run cosecutively. Meaning statements are always executed one after the other in the sequence indicated. As a result, a programme frequently has to pass over certain statements, repeat a sequence of statements, or pick between other statements to execute.\n",
        "\n",
        "Control structures are eintroduced to python to address these use cases. A control structure directs the order in which statements in a programme are executed. The if statement in a python programme performs decision making. It enables the conditional execution of a statement or collection of statements dependent on an expressions value.\n",
        "\n",
        "syntax\n",
        "\n",
        "In the if condition, there are two parameters that need tobe defined.\n",
        "  * The expression evaluated in a boolean context which is either True or False.\n",
        "  * The statement is valid python statement, which must be indented. It could be any statement like print(), return, counter, etc.\n",
        "\n",
        "Example\n"
      ],
      "metadata": {
        "id": "C_ctn4w2tdYy"
      }
    },
    {
      "cell_type": "code",
      "execution_count": null,
      "metadata": {
        "colab": {
          "base_uri": "https://localhost:8080/"
        },
        "id": "v36StRJYsuPw",
        "outputId": "ccf83c67-cce5-475e-be13-e4b0da9f99df"
      },
      "outputs": [
        {
          "output_type": "stream",
          "name": "stdout",
          "text": [
            "validated\n"
          ]
        }
      ],
      "source": [
        "value = 5\n",
        "if value>2:\n",
        "  print(\"validated\")"
      ]
    },
    {
      "cell_type": "markdown",
      "source": [
        "If else statement\n",
        "\n",
        "In the above example, the variable satisfies the condition, and therefore the statement is executed , but the question arries what if the variable does not satisfy the condition? In that case, the else statement is stated inthe conditional statement.\n",
        "\n",
        "Syntax\n",
        "\n",
        "if <expr>:\n",
        "  <statement>\n",
        "else:\n",
        "  <statement>\n",
        "\n",
        "When the condition evaluates to be TRUE,\n",
        "  1. the code inside \"if\" is executed\n",
        "  2. the code inside \"else\" is skipped\n",
        "when the condition evaluates to be False,\n",
        "  1. the coode inside \"else\" is executed\n",
        "  2. the code inside \"if\" is skipped\n",
        "If there are multiple else statements that needs to be stated then use the elif statement inthe conditional statement.\n",
        "\n",
        "if  <expr>:\n",
        "   <statement>\n",
        "elif <expression>\n",
        "   <statement>\n",
        "\n",
        ".\n",
        ".\n",
        ".\n",
        "else:\n",
        "    <statement>\n"
      ],
      "metadata": {
        "id": "ssKEYji9vy4K"
      }
    },
    {
      "cell_type": "code",
      "source": [
        "#Example\n",
        "value = 1\n",
        "if value>2:\n",
        "  print('valid')\n",
        "else:\n",
        "  print(\"Not valid\")"
      ],
      "metadata": {
        "colab": {
          "base_uri": "https://localhost:8080/"
        },
        "id": "sGhYO2GLvwxl",
        "outputId": "30883945-0676-4fd2-9ed4-9b17006fdfc3"
      },
      "execution_count": null,
      "outputs": [
        {
          "output_type": "stream",
          "name": "stdout",
          "text": [
            "Not valid\n"
          ]
        }
      ]
    },
    {
      "cell_type": "markdown",
      "source": [
        "In the above example, there are two conditions if the value is greater then 2 and then execute the statement else statement the value is lesser than 2 then execute the given statement."
      ],
      "metadata": {
        "id": "tgimLwD7x1VN"
      }
    },
    {
      "cell_type": "code",
      "source": [
        "account = 'savings'\n",
        "if account == 'savings':\n",
        "       print('Account Balance could be above 0')\n",
        "elif account == 'Current':\n",
        "       print('Account Balance should be above 10k')\n",
        "else:\n",
        "       print('Account Balance should be above 20k')"
      ],
      "metadata": {
        "colab": {
          "base_uri": "https://localhost:8080/"
        },
        "id": "VL_rjRq6xxjH",
        "outputId": "be04c4cb-a550-4252-f892-3e162189b498"
      },
      "execution_count": null,
      "outputs": [
        {
          "output_type": "stream",
          "name": "stdout",
          "text": [
            "Account Balance could be above 0\n"
          ]
        }
      ]
    },
    {
      "cell_type": "markdown",
      "source": [
        "In the above example, there are multiple conditions that are needed to be checked. First condition is defined in the if statement. Then the other condition is defined in the elif statement. The last condition is defined innthe else statement. So the code will first check whether the, if the condition is satisfied. If it does not, the interprener will stop if the condition matches before the else statement.\n",
        "\n",
        "Working with multiple if else statement is time consuming and not resouce effiecient. the solution is to make a dictionary lookup and use the get method to perform the conditions. here is an example explained below."
      ],
      "metadata": {
        "id": "u1r6dTSsy9v7"
      }
    },
    {
      "cell_type": "code",
      "source": [
        "account = {'savings': 'Account balance could be above 0', 'current': 'Account balance should be above 10k', 'CASA': 'Account balance should be above 20k'}\n",
        "print(account.get('savings'))"
      ],
      "metadata": {
        "colab": {
          "base_uri": "https://localhost:8080/"
        },
        "id": "UIo_Am8Myt34",
        "outputId": "65d1fd97-bad5-4546-c888-ebd5275c147e"
      },
      "execution_count": null,
      "outputs": [
        {
          "output_type": "stream",
          "name": "stdout",
          "text": [
            "Account balance could be above 0\n"
          ]
        }
      ]
    },
    {
      "cell_type": "code",
      "source": [],
      "metadata": {
        "id": "dBI0io_w0tdr"
      },
      "execution_count": null,
      "outputs": []
    }
  ]
}
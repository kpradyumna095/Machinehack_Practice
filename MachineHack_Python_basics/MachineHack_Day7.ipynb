{
  "nbformat": 4,
  "nbformat_minor": 0,
  "metadata": {
    "colab": {
      "provenance": []
    },
    "kernelspec": {
      "name": "python3",
      "display_name": "Python 3"
    },
    "language_info": {
      "name": "python"
    }
  },
  "cells": [
    {
      "cell_type": "markdown",
      "source": [
        "\n",
        "\n",
        "30 Days of Python-MachineHack\n",
        "\n",
        "DAY 7 Comprehensions in Python"
      ],
      "metadata": {
        "id": "TdUif8vHs8cQ"
      }
    },
    {
      "cell_type": "markdown",
      "source": [
        "Comprehensions"
      ],
      "metadata": {
        "id": "ATlztsAntVcJ"
      }
    },
    {
      "cell_type": "markdown",
      "source": [
        "List Comprehension\n",
        "\n",
        "Comprehension is a syntactic construct. It is utilzed for creating a list fromthe pattern of operation implemented on the list. A list comprehension consists of the fillowing:\n",
        "\n",
        "   * Sequence of input\n",
        "   * A variable for storing input sequence members\n",
        "   * Exapnsion of the predicate\n",
        "   * Output expression that generates the output list depending on the input sequence and also  meets the predicate.\n",
        "\n",
        "List comprehension is a simple and elegant technique to create a list in python. There are several advantages to utilising python list.\n",
        "  * The most fundamental advantage is condensing three lines of code into a single line.\n",
        "  * Instead of enlarging the list at runtime,Python will allocat the lists memory upfront, making it quicker in this situation.\n",
        "\n",
        "  Syntax\n",
        "\n",
        "  [ expression iterable (if conditional)  ]\n"
      ],
      "metadata": {
        "id": "K4tAURHwthB_"
      }
    },
    {
      "cell_type": "markdown",
      "source": [
        "Example\n",
        "\n",
        "In this example the motive is to comprehend the multi line loop into one single line and the output should be in the form of a list."
      ],
      "metadata": {
        "id": "-3RfO4TrC_VA"
      }
    },
    {
      "cell_type": "code",
      "source": [
        "old_list = [1,12,3,4,56,7,89,8,76,543,21]\n",
        "new_list = []\n",
        "for i in old_list:\n",
        "  if i>9:\n",
        "      new_list.append(i)\n",
        "print(new_list)"
      ],
      "metadata": {
        "colab": {
          "base_uri": "https://localhost:8080/"
        },
        "id": "s7GrIlIlCj2u",
        "outputId": "f9b82e4a-e662-4e48-99ca-663ed38e531b"
      },
      "execution_count": null,
      "outputs": [
        {
          "output_type": "stream",
          "name": "stdout",
          "text": [
            "[12, 56, 89, 76, 543, 21]\n"
          ]
        }
      ]
    },
    {
      "cell_type": "markdown",
      "source": [
        "Initially, the pattern should be found in the loop so as to comprehend the loop according to the syntax. The syntax contains three parts first is desired output and other two parts are the filtered elements of the old list, then need to use an iterator through all the elements of the list and at last the filter for the iterables."
      ],
      "metadata": {
        "id": "oCnHt6SNFnce"
      }
    },
    {
      "cell_type": "code",
      "source": [
        "old_list = [1,12,3,4,56,7,89,8,76,5,43,21]\n",
        "new_list = [i for i in old_list if i>5]\n",
        "print(\"Filter list :\", new_list)"
      ],
      "metadata": {
        "colab": {
          "base_uri": "https://localhost:8080/"
        },
        "id": "ukGM56e1Fd6J",
        "outputId": "25279be4-d3b1-4120-fe9b-4689f68ed915"
      },
      "execution_count": null,
      "outputs": [
        {
          "output_type": "stream",
          "name": "stdout",
          "text": [
            "Filter list : [12, 56, 7, 89, 8, 76, 43, 21]\n"
          ]
        }
      ]
    },
    {
      "cell_type": "markdown",
      "source": [
        "Set Comprehension\n",
        "\n",
        "Set comprehension is a python technique for generating sets from elements of other iterables, such as lists,sets,or tuples. Set comprehension, like list comprehension, can be used instead of a for loop to construct a new set and add elements. A set comprehension consists of the following:\n",
        "\n",
        "  * The iterable in python can be any object or data structure from which we must use the elements to form the new set.\n",
        "  * The element specifies the iterable element that must be included in the set.\n",
        "  *  Any mathematical expression generated from the element can be used as the expression.\n",
        "  * The name of the new set that must be formed from the elements of the iterable is newset.\n",
        "\n",
        "  Syntax\n",
        "\n",
        "  {expression iterable(if condition)}"
      ],
      "metadata": {
        "id": "aTdVBQJuHYYh"
      }
    },
    {
      "cell_type": "markdown",
      "source": [
        "Example\n",
        "\n",
        "Similar to a list comprehension, set comprehension follows the same syntax. In the below example, the motive is to lower case the strings in the input_set."
      ],
      "metadata": {
        "id": "s1fKo4AXJfgY"
      }
    },
    {
      "cell_type": "code",
      "source": [
        "input_set = {'Machine', 'Hack', 'Python'}\n",
        "output_set = set()\n",
        "for i in input_set:\n",
        "  output_set.add(i.lower())\n",
        "print(output_set)"
      ],
      "metadata": {
        "colab": {
          "base_uri": "https://localhost:8080/"
        },
        "id": "Pz3nVIHkHWaD",
        "outputId": "e366cbf3-2b13-4beb-c551-2bb2c0b8975f"
      },
      "execution_count": null,
      "outputs": [
        {
          "output_type": "stream",
          "name": "stdout",
          "text": [
            "{'python', 'hack', 'machine'}\n"
          ]
        }
      ]
    },
    {
      "cell_type": "markdown",
      "source": [
        "To condensate the above logic, need to find the pattern. As observed, the above code has a for loop to iterate through the set. Then the lower function is applied to the iterable. The desired output are the iterabblesafter the function is applied, then followed by for loop and the function itself."
      ],
      "metadata": {
        "id": "ePrm3zKcKwf9"
      }
    },
    {
      "cell_type": "code",
      "source": [
        "input_set = {'Machine', 'Hack', 'Python'}\n",
        "output_set = set(map(lambda i:i.lower(), input_set))\n",
        "print(output_set)"
      ],
      "metadata": {
        "colab": {
          "base_uri": "https://localhost:8080/"
        },
        "id": "JJssxZlMKkUN",
        "outputId": "b62c218c-87c0-4ee2-d559-057abfc9aa59"
      },
      "execution_count": null,
      "outputs": [
        {
          "output_type": "stream",
          "name": "stdout",
          "text": [
            "{'python', 'hack', 'machine'}\n"
          ]
        }
      ]
    },
    {
      "cell_type": "markdown",
      "source": [
        "Dictionary comprehension\n",
        "\n",
        "Dictionary comprehension is the method used for transferring one dictionary into other dictionary. While transferring one dictionary into another, the user can also include th dat of the original dictionary in the new dictionary, and earch can be transferred as needed. A dictionary comprehension consists of following:\n",
        " * The iterable in python can be any object or data structure from which we must use the elements to form the new set.\n",
        " * Any mathematical expression generated fromthe element canbe used as the expression.\n",
        " * Key and value are the required parameter for dictionary.\n",
        "\n",
        " Syntax\n",
        "\n",
        " {key: 'value' (value for (key, value) in iterable (if condition))"
      ],
      "metadata": {
        "id": "kXYGpnY-MGJu"
      }
    },
    {
      "cell_type": "code",
      "source": [
        "#Example\n",
        "key = [1,2,3,4,5]\n",
        "value = ['Machine',  'HAck', 'Python', 30, \"days\"]\n",
        "dict_comp = {X:Y for (X,Y) in zip(key, value)}\n",
        "print(dict_comp)"
      ],
      "metadata": {
        "colab": {
          "base_uri": "https://localhost:8080/"
        },
        "id": "e1fnWz6AL_Js",
        "outputId": "e7259e66-04f5-4ea9-8791-adab42549a5c"
      },
      "execution_count": null,
      "outputs": [
        {
          "output_type": "stream",
          "name": "stdout",
          "text": [
            "{1: 'Machine', 2: 'HAck', 3: 'Python', 4: 30, 5: 'days'}\n"
          ]
        }
      ]
    },
    {
      "cell_type": "markdown",
      "source": [
        "In the above example, there are two lists, key and value. The desired output is a dictionary with key[i] as the keys and value[i] as the keys values. Here the X in the dictionary comprehension is the key, and Y is the value. Then the for loop is used to iterate through the zip function, which zips the index of both lists."
      ],
      "metadata": {
        "id": "vLv33moFSKNi"
      }
    },
    {
      "cell_type": "code",
      "source": [],
      "metadata": {
        "id": "iZpmFOKUOZqy"
      },
      "execution_count": null,
      "outputs": []
    }
  ]
}
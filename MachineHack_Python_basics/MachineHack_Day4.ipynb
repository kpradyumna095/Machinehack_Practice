{
  "nbformat": 4,
  "nbformat_minor": 0,
  "metadata": {
    "colab": {
      "provenance": []
    },
    "kernelspec": {
      "name": "python3",
      "display_name": "Python 3"
    },
    "language_info": {
      "name": "python"
    }
  },
  "cells": [
    {
      "cell_type": "markdown",
      "source": [
        "\n",
        "\n",
        "30 Days of Python-MachineHack\n",
        "\n",
        "DAY 4 Strings\n",
        "\n"
      ],
      "metadata": {
        "id": "EJ_Zl2G0sFpZ"
      }
    },
    {
      "cell_type": "markdown",
      "source": [
        "Strings in Python\n",
        "\n",
        "Python contains a built in string class called \"str\" that offers a lot of useful functions. String literals can be enclosed by either double, single or triple quotes, with single quotes being more common. Triple quotes are docstrings, or multi line docstrings, and are not considered comments. The interpreter reads everything between the triple quotes.\n",
        "\n",
        "The single quotes could be used inside a double string, for example, \" The person's testament\". Similar double quotes could be used inside a single quote.Python strings can be changed or updated once created, which means they are immutable. Backslash escapes function normally within both single and double literals for example, \\n \\'\\\"."
      ],
      "metadata": {
        "id": "HOa0ERYusP-u"
      }
    },
    {
      "cell_type": "code",
      "execution_count": null,
      "metadata": {
        "colab": {
          "base_uri": "https://localhost:8080/"
        },
        "id": "EM74PV50sCFZ",
        "outputId": "fb14b43c-64f4-42c5-9d93-4dfb9e10945c"
      },
      "outputs": [
        {
          "output_type": "stream",
          "name": "stdout",
          "text": [
            "Using single quotes\n",
            "Using double quotes\n",
            "Using triple quotes\n"
          ]
        }
      ],
      "source": [
        "print('Using single quotes')\n",
        "print(\"Using double quotes\")\n",
        "print('''Using triple quotes''')"
      ]
    },
    {
      "cell_type": "markdown",
      "source": [
        "String operation\n",
        "\n",
        "Here are frequently used operations with a string object.\n",
        "\n",
        "Accessing the characters\n",
        "\n",
        "The standard square bracket \"[]\" syntax or slicing can access characters in a string, while python employs zero based indexing. Python throws an exception if the index is out of limits for the string. Below is the handy \"slice\" syntax that extracts any substring from a string.\n",
        "\n",
        "Syntax\n",
        "\n",
        "str[index]\n",
        "\n"
      ],
      "metadata": {
        "id": "uc9wdAo0udlb"
      }
    },
    {
      "cell_type": "code",
      "source": [
        "#Example\n",
        "a = 'Machinehack'\n",
        "print(\"Extracting the character from index :\", a[0],a[7])"
      ],
      "metadata": {
        "colab": {
          "base_uri": "https://localhost:8080/"
        },
        "id": "mPwnHXbWuXix",
        "outputId": "4c33fef5-baca-4e95-ba64-9c98b0dfd527"
      },
      "execution_count": null,
      "outputs": [
        {
          "output_type": "stream",
          "name": "stdout",
          "text": [
            "Extracting the character from index : M h\n"
          ]
        }
      ]
    },
    {
      "cell_type": "markdown",
      "source": [
        "Length of a string object\n",
        "\n",
        "Similar to finding the length of a list, the len() function could be used to calculate the length of the string. the length of the string means the total number of characters present in the string.\n",
        "\n",
        "Syntax\n",
        "\n",
        "lan(str)\n"
      ],
      "metadata": {
        "id": "nUKII9Idv6HP"
      }
    },
    {
      "cell_type": "code",
      "source": [
        "#Example\n",
        "a = \"Machinehack\"\n",
        "print(\"the length of string : \", len(a))"
      ],
      "metadata": {
        "colab": {
          "base_uri": "https://localhost:8080/"
        },
        "id": "6z_S7W42vz5V",
        "outputId": "c0534c76-d874-410f-e3d9-c26e956a0c14"
      },
      "execution_count": null,
      "outputs": [
        {
          "output_type": "stream",
          "name": "stdout",
          "text": [
            "the length of string :  11\n"
          ]
        }
      ]
    },
    {
      "cell_type": "markdown",
      "source": [
        "Foramtting string objects\n",
        "\n",
        "The object could be concatenated by using the add operator '+', the operator would add the other string to the end of the prior string.\n",
        "\n",
        "Syntax\n",
        "\n",
        "str+str+...+str"
      ],
      "metadata": {
        "id": "GO1esSRAw04k"
      }
    },
    {
      "cell_type": "code",
      "source": [
        "#Example\n",
        "\n",
        "a= 'Machinehack'\n",
        "b= 'Python'\n",
        "print(\"adding strings\", a+\" \"+b)"
      ],
      "metadata": {
        "colab": {
          "base_uri": "https://localhost:8080/"
        },
        "id": "B8Te210KwxQ1",
        "outputId": "836fd495-eed1-4b1c-fbdc-38ad9027ed6c"
      },
      "execution_count": null,
      "outputs": [
        {
          "output_type": "stream",
          "name": "stdout",
          "text": [
            "adding strings Machinehack Python\n"
          ]
        }
      ]
    },
    {
      "cell_type": "markdown",
      "source": [
        "The string object could be formatted using the format() function. This function returns the modified string. This method takes the passed arguments, formats them , and places them inthe string where the placeholders are defined are denoted by curlybrackets{} in the string.\n",
        "\n",
        "Syntax\n",
        "\n",
        "str= \"....{}\"\n",
        "print(str.format(variable))"
      ],
      "metadata": {
        "id": "JY9Px48kxiH3"
      }
    },
    {
      "cell_type": "code",
      "source": [
        "#Example\n",
        "a = \"Machinehack\"\n",
        "b= \"Python\"\n",
        "print(\"Adding strings\", a+\" \"+b)\n",
        "\n"
      ],
      "metadata": {
        "colab": {
          "base_uri": "https://localhost:8080/"
        },
        "id": "b7yhvTjBxfU-",
        "outputId": "fce328d0-e512-4795-d93a-6976853a29a4"
      },
      "execution_count": null,
      "outputs": [
        {
          "output_type": "stream",
          "name": "stdout",
          "text": [
            "Adding strings Machinehack Python\n"
          ]
        }
      ]
    },
    {
      "cell_type": "markdown",
      "source": [
        "The String object could also be formatted using the format() function. This function returns the modified string. This method takes the passed arguments, formats them, and places them in the string where the placeholders are defined. The placeholders are denoted ny curly brackets {} in the string.\n",
        "\n",
        "Syntax\n",
        "\n",
        "str=\"....{}\"\n",
        "print(str.format(variable))"
      ],
      "metadata": {
        "id": "TxPfTMxLy0hN"
      }
    },
    {
      "cell_type": "code",
      "source": [
        "#Example\n",
        "f = \"Machine Hack\"\n",
        "text = \"Learn python with {}\"\n",
        "print(\"Formatted text: \", text.format(f))"
      ],
      "metadata": {
        "colab": {
          "base_uri": "https://localhost:8080/"
        },
        "id": "ouIjhWHTyyJw",
        "outputId": "fa0e1695-57ba-44ac-b5bc-2e6ed0c62f93"
      },
      "execution_count": null,
      "outputs": [
        {
          "output_type": "stream",
          "name": "stdout",
          "text": [
            "Formatted text:  Learn python with Machine Hack\n"
          ]
        }
      ]
    },
    {
      "cell_type": "code",
      "source": [
        "value = 3.143\n",
        "print(f'approximate value of pie = {value: .3f}')"
      ],
      "metadata": {
        "colab": {
          "base_uri": "https://localhost:8080/"
        },
        "id": "10wv-P_q0YPf",
        "outputId": "6198d7ff-67c8-4774-a914-b50e10d06733"
      },
      "execution_count": null,
      "outputs": [
        {
          "output_type": "stream",
          "name": "stdout",
          "text": [
            "approximate value of pie =  3.143\n"
          ]
        }
      ]
    },
    {
      "cell_type": "markdown",
      "source": [
        "Raw string literal\n",
        "\n",
        "A raw string literal passes all the charactersinthe string through without special treatment of backslashes. For example, the \"print\" function normally prints out one or more python items followed by a newline. It is denoted by the prefic'r'.\n",
        "\n",
        "Syntax\n",
        "print(r'string')"
      ],
      "metadata": {
        "id": "ra_GRlRG0zHe"
      }
    },
    {
      "cell_type": "code",
      "source": [
        "#Example\n",
        "text  = r\"hi\\machine\\hack\\nPython\"\n",
        "print(text)"
      ],
      "metadata": {
        "colab": {
          "base_uri": "https://localhost:8080/"
        },
        "id": "viFQOoSW0vAB",
        "outputId": "1805ccf7-df6d-4581-de5a-172fbc4dc979"
      },
      "execution_count": null,
      "outputs": [
        {
          "output_type": "stream",
          "name": "stdout",
          "text": [
            "hi\\machine\\hack\\nPython\n"
          ]
        }
      ]
    },
    {
      "cell_type": "markdown",
      "source": [
        "Lower case and upper case\n",
        "\n",
        "The string object could be transformed from uppercase to lowercase and vice versa the in buil string function lower() for lower case and upper() for upper case transformation.\n",
        "\n",
        "syntax\n",
        "\n",
        "str.lower()\n",
        "str.upper()"
      ],
      "metadata": {
        "id": "IV8FWIK62BQ2"
      }
    },
    {
      "cell_type": "code",
      "source": [
        "#Example\n",
        "a = \"Machinehack\"\n",
        "c = \"PYTHON\"\n",
        "print(\"Transform into uppercase :\", a.upper())\n",
        "print(\"Transform into lowercase :\", c.lower())"
      ],
      "metadata": {
        "colab": {
          "base_uri": "https://localhost:8080/"
        },
        "id": "cWVeQucN16NM",
        "outputId": "8019d86e-1470-49e0-8684-e91b1a1391ba"
      },
      "execution_count": null,
      "outputs": [
        {
          "output_type": "stream",
          "name": "stdout",
          "text": [
            "Transform into uppercase : MACHINEHACK\n",
            "Transform into lowercase : python\n"
          ]
        }
      ]
    },
    {
      "cell_type": "markdown",
      "source": [
        "Removing white space\n",
        "\n",
        "the white space in a string which are before and/or after the desired text could be removed by using strip() function. The function returns the string without any with spaces.\n",
        "\n",
        "Syntax\n",
        "\n",
        "str.strip()"
      ],
      "metadata": {
        "id": "20HbCOgH3Gyk"
      }
    },
    {
      "cell_type": "code",
      "source": [
        "#Example\n",
        "a= \" Learn python with machine hack \"\n",
        "stripp = a.strip()\n",
        "print(\"string without white space :\", stripp, \"\\nLength of string before strip: \", len(a), \"\\nLength of string after strip: \",len(stripp))"
      ],
      "metadata": {
        "colab": {
          "base_uri": "https://localhost:8080/"
        },
        "id": "-VB71UUU2-kw",
        "outputId": "7b328ef9-e4bb-4006-cbea-a7c83aef114b"
      },
      "execution_count": null,
      "outputs": [
        {
          "output_type": "stream",
          "name": "stdout",
          "text": [
            "string without white space : Learn python with machine hack \n",
            "Length of string before strip:  32 \n",
            "Length of string after strip:  30\n"
          ]
        }
      ]
    },
    {
      "cell_type": "markdown",
      "source": [
        "Replacing character in astring\n",
        "\n",
        "To replace all the occurences of character or substring in a string the replace() inbuilt function could be handy. The function returns the copy of the original string and replaces the desired query. The copy is stored in another memory location.\n",
        "\n",
        "syntax\n",
        "\n",
        "str.replace('old','new')"
      ],
      "metadata": {
        "id": "VMxkczq64b3P"
      }
    },
    {
      "cell_type": "code",
      "source": [
        "#Example\n",
        "a = \" Learn python with machine hack \"\n",
        "stripp=a.strip()\n",
        "print(\"Replacing the 'e' with '3' : \", stripp.replace('e', '3'))"
      ],
      "metadata": {
        "colab": {
          "base_uri": "https://localhost:8080/"
        },
        "id": "NvuHg1E04QOg",
        "outputId": "fc72ff00-fa4c-4bba-ea2e-6f828331cc3a"
      },
      "execution_count": null,
      "outputs": [
        {
          "output_type": "stream",
          "name": "stdout",
          "text": [
            "Replacing the 'e' with '3' :  L3arn python with machin3 hack\n"
          ]
        }
      ]
    },
    {
      "cell_type": "markdown",
      "source": [
        "Splitting the string object\n",
        "\n",
        "The function split() splits the string object into a list of substrings by the specified delimiter. The delimiter is a regular expression seperator. For example , white space in between the text, a comma etc\n",
        "\n",
        "Syntax\n",
        "\n",
        "str.spilt(seperator,maxsplit)"
      ],
      "metadata": {
        "id": "bxgCefR26duZ"
      }
    },
    {
      "cell_type": "code",
      "source": [
        "#Example\n",
        "a = \" Learn python with machine hack \"\n",
        "stripp = a.strip()\n",
        "print(\"splitting the string : \", stripp.split())"
      ],
      "metadata": {
        "colab": {
          "base_uri": "https://localhost:8080/"
        },
        "id": "4qxtk-xH6aR-",
        "outputId": "975ae054-8815-4d3f-fadc-94d850f260e4"
      },
      "execution_count": null,
      "outputs": [
        {
          "output_type": "stream",
          "name": "stdout",
          "text": [
            "splitting the string :  ['Learn', 'python', 'with', 'machine', 'hack']\n"
          ]
        }
      ]
    },
    {
      "cell_type": "code",
      "source": [],
      "metadata": {
        "id": "QK0aG9Us7T7N"
      },
      "execution_count": null,
      "outputs": []
    }
  ]
}
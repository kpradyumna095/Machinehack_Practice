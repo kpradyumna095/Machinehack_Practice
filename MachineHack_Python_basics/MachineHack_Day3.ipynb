{
  "nbformat": 4,
  "nbformat_minor": 0,
  "metadata": {
    "colab": {
      "provenance": []
    },
    "kernelspec": {
      "name": "python3",
      "display_name": "Python 3"
    },
    "language_info": {
      "name": "python"
    }
  },
  "cells": [
    {
      "cell_type": "markdown",
      "source": [
        "30 Days of Python-MachineHack\n",
        "\n",
        "DAY 3 List"
      ],
      "metadata": {
        "id": "oTsQATXvNyGg"
      }
    },
    {
      "cell_type": "markdown",
      "source": [
        "Python Lists\n",
        "\n",
        "Lists are an ordered collection of data, similar to arrays, which are defined in other languages. It is particularly adapatable since list elements do not have to be of the same kind. There are two primary properties of the list.\n",
        "  * The list in python is ordered, which means the elements follow a sequence. If a new element is inserted,it would be inserted into the end.\n",
        "  * The list is a mutable data object which means the deletion and swapping of elements are permitted.\n",
        "\n",
        "Initialize the list\n",
        "\n",
        "To initialize a list in python, the values need to be stored inside square brackets. The elements of the lists are seperated by a comma. Here is an example of initialize a list."
      ],
      "metadata": {
        "id": "7MZwS3bSOMuq"
      }
    },
    {
      "cell_type": "code",
      "execution_count": null,
      "metadata": {
        "colab": {
          "base_uri": "https://localhost:8080/"
        },
        "id": "tTItDOnLNp5U",
        "outputId": "4e0ba895-60ef-4563-9056-360222616223"
      },
      "outputs": [
        {
          "output_type": "stream",
          "name": "stdout",
          "text": [
            "Empty list :  []\n"
          ]
        }
      ],
      "source": [
        "#Initialize the list\n",
        "empty_list = []\n",
        "print(\"Empty list : \", empty_list)"
      ]
    },
    {
      "cell_type": "code",
      "source": [
        "#storing values in a list\n",
        "a= [1,2,3,4,5]\n",
        "print(\"the input list :\", a , type(a))"
      ],
      "metadata": {
        "colab": {
          "base_uri": "https://localhost:8080/"
        },
        "id": "k6iwg3ScQ-Ph",
        "outputId": "577a70c0-5b7c-495c-ad55-3cd2a90b1578"
      },
      "execution_count": null,
      "outputs": [
        {
          "output_type": "stream",
          "name": "stdout",
          "text": [
            "the input list : [1, 2, 3, 4, 5] <class 'list'>\n"
          ]
        }
      ]
    },
    {
      "cell_type": "code",
      "source": [
        "#Nested list\n",
        "nested_list = [['Machine', \"Hack\"],['Python']]\n",
        "print(\"Nested list\", nested_list)"
      ],
      "metadata": {
        "colab": {
          "base_uri": "https://localhost:8080/"
        },
        "id": "MYg3A4ZaRUY0",
        "outputId": "95349642-9c59-40ce-c1eb-87c78daa580c"
      },
      "execution_count": null,
      "outputs": [
        {
          "output_type": "stream",
          "name": "stdout",
          "text": [
            "Nested list [['Machine', 'Hack'], ['Python']]\n"
          ]
        }
      ]
    },
    {
      "cell_type": "markdown",
      "source": [
        "List Operations\n",
        "\n",
        "Here are frequently used operations for manipulating the values of a list object.\n",
        "\n",
        "Access elements of a list\n",
        "\n",
        "To retrieve the values stored in the list object,there is a huge importance of index number. Use the index number of the element with the variable name of the list object using the square brackets. The data could be retrieved in reverse order using the negative index number.\n",
        "\n",
        " Here is an example to explain further.\n",
        "\n",
        "syntax\n",
        "list[index]\n",
        "\n"
      ],
      "metadata": {
        "id": "fRay8ZZJR0Wa"
      }
    },
    {
      "cell_type": "code",
      "source": [
        "#example\n",
        "input_list = ['Machine', 'Hack', 'MH']\n",
        "print(\"Retrieving the data from index 0: \", input_list[0],\n",
        "      \"\\nRetrieving the data from index -2:\", input_list[-2])"
      ],
      "metadata": {
        "colab": {
          "base_uri": "https://localhost:8080/"
        },
        "id": "tafPwlUFRvHP",
        "outputId": "30d06cde-d7e8-4e0e-a641-1011fcb68103"
      },
      "execution_count": null,
      "outputs": [
        {
          "output_type": "stream",
          "name": "stdout",
          "text": [
            "Retrieving the data from index 0:  Machine \n",
            "Retrieving the data from index -2: Hack\n"
          ]
        }
      ]
    },
    {
      "cell_type": "markdown",
      "source": [
        "To access consecutive elements of a list, use the colon ':' and set the range of indexes. These integers are considered to be the lower and upper limit of the range, and upper limit is executed from the output.\n",
        "\n",
        "Syntax\n",
        "\n",
        "list[lower_index:upper_index]\n"
      ],
      "metadata": {
        "id": "j8nAIkRdTssB"
      }
    },
    {
      "cell_type": "code",
      "source": [
        "#Example\n",
        "input_list = ['Machine', 'Hack', 'MH', 1,3, 6, 7]\n",
        "print(\"Data from index 0to5: \", input_list[:5],\n",
        "      \"\\nData from index 2to4: \", input_list[2:4])"
      ],
      "metadata": {
        "colab": {
          "base_uri": "https://localhost:8080/"
        },
        "id": "bgcGqpEvTqPH",
        "outputId": "f75e0c66-ccef-49cc-8e2a-1efa364defb7"
      },
      "execution_count": null,
      "outputs": [
        {
          "output_type": "stream",
          "name": "stdout",
          "text": [
            "Data from index 0to5:  ['Machine', 'Hack', 'MH', 1, 3] \n",
            "Data from index 2to4:  ['MH', 1]\n"
          ]
        }
      ]
    },
    {
      "cell_type": "markdown",
      "source": [
        "Appending elements\n",
        "\n",
        "Elements can be appended to the python lists using either the append or insert function. When using an insert function need to specify the index at which the element is inserted into the list. But while using an append the element is inserted at the last of the list.\n",
        "\n",
        "Syntax\n",
        "\n",
        "list.insert(pos,elemnt)\n",
        "\n",
        "list.append(element)"
      ],
      "metadata": {
        "id": "ebiZnKazVYD4"
      }
    },
    {
      "cell_type": "code",
      "source": [
        "#Example\n",
        "input_list = ['Machine', 'Hack', 30, 'days']\n",
        "input_list.insert(2, 'learn')\n",
        "input_list.insert(3, 'python')\n",
        "print(\"adding element using insert :\", input_list)\n",
        "\n",
        "input_list.append(40)\n",
        "print(\"Adding element using append :\", input_list)"
      ],
      "metadata": {
        "colab": {
          "base_uri": "https://localhost:8080/"
        },
        "id": "MZ9y1dEWVFZn",
        "outputId": "1a89f2da-60cc-461d-fbdd-df440399bd78"
      },
      "execution_count": null,
      "outputs": [
        {
          "output_type": "stream",
          "name": "stdout",
          "text": [
            "adding element using insert : ['Machine', 'Hack', 'learn', 'python', 30, 'days']\n",
            "Adding element using append : ['Machine', 'Hack', 'learn', 'python', 30, 'days', 40]\n"
          ]
        }
      ]
    },
    {
      "cell_type": "markdown",
      "source": [
        "Sorted Lists\n",
        "\n",
        "The elements of the list could be sorted in ascending or descending order. The sorting could be implemented by using in built function.\n",
        "\n",
        "Syntax\n",
        "\n",
        "list.sort()"
      ],
      "metadata": {
        "id": "oCn6dmiNXbxQ"
      }
    },
    {
      "cell_type": "code",
      "source": [
        "#Example\n",
        "in_list = ['Machine', 'Hack', 'Learn', 'Python', 'days']\n",
        "in_list.sort(reverse=True)\n",
        "print(in_list)"
      ],
      "metadata": {
        "colab": {
          "base_uri": "https://localhost:8080/"
        },
        "id": "J1kxqWHeXVUC",
        "outputId": "915af20a-99ff-4352-a948-9b069a7f1c3a"
      },
      "execution_count": null,
      "outputs": [
        {
          "output_type": "stream",
          "name": "stdout",
          "text": [
            "['days', 'Python', 'Machine', 'Learn', 'Hack']\n"
          ]
        }
      ]
    },
    {
      "cell_type": "markdown",
      "source": [
        "Update of elemets of a list\n",
        "\n",
        "Since a list is a mutable object therefore the updation of any element in the list is possible using the index of list.\n",
        "\n",
        "syntax\n",
        "\n",
        "list[index]=element"
      ],
      "metadata": {
        "id": "xMkbfwfVcg6e"
      }
    },
    {
      "cell_type": "code",
      "source": [
        "#Example\n",
        "in_list = ['Machine','Hack', 'Learn', 'Python', 'days']\n",
        "in_list[4] = 30\n",
        "print(in_list)"
      ],
      "metadata": {
        "colab": {
          "base_uri": "https://localhost:8080/"
        },
        "id": "YqMXL5ESccs4",
        "outputId": "e7e0e278-cae0-4975-a06a-7edf533fab12"
      },
      "execution_count": null,
      "outputs": [
        {
          "output_type": "stream",
          "name": "stdout",
          "text": [
            "['Machine', 'Hack', 'Learn', 'Python', 30]\n"
          ]
        }
      ]
    },
    {
      "cell_type": "markdown",
      "source": [
        "Deletion of elements of list\n",
        "\n",
        "Similar to updataion in a list the element could also be deleted using the remove function. The element need to be provided when using the remove function.\n",
        "\n",
        "Syntax:\n",
        "\n",
        "list.remove(element)\n"
      ],
      "metadata": {
        "id": "lQSgqSXNdjCj"
      }
    },
    {
      "cell_type": "code",
      "source": [
        "#Example\n",
        "output_list = ['Machine', 'Hack', 'Learn', 'Python', 30]\n",
        "output_list.remove('Hack')\n",
        "print(output_list)"
      ],
      "metadata": {
        "colab": {
          "base_uri": "https://localhost:8080/"
        },
        "id": "2QzLBEaOdYwr",
        "outputId": "d9740795-6ec4-4b7e-8a1b-09921fdf02c3"
      },
      "execution_count": null,
      "outputs": [
        {
          "output_type": "stream",
          "name": "stdout",
          "text": [
            "['Machine', 'Learn', 'Python', 30]\n"
          ]
        }
      ]
    },
    {
      "cell_type": "markdown",
      "source": [
        "Popping an element\n",
        "\n",
        "When using pop function the position of the element need to be provided or else the last element of the list would be pop out of the list. It returns the element as output.\n",
        "\n",
        "Syntax:\n",
        "\n",
        "list.pop(pos)"
      ],
      "metadata": {
        "id": "0dBTk-50mT0m"
      }
    },
    {
      "cell_type": "code",
      "source": [
        "#Example\n",
        "output_list = ['Machine', 'Hack', 'Learn', 'Python', 30]\n",
        "print(\"Deleting element without specifying position :\", output_list.pop())\n",
        "print((\"Deleting element with specifying position : \", output_list.pop(2)))"
      ],
      "metadata": {
        "colab": {
          "base_uri": "https://localhost:8080/"
        },
        "id": "eTcsEgAdmQSC",
        "outputId": "5b17709d-03f3-4f06-e6a3-43d020804a5a"
      },
      "execution_count": null,
      "outputs": [
        {
          "output_type": "stream",
          "name": "stdout",
          "text": [
            "Deleting element without specifying position : 30\n",
            "('Deleting element with specifying position : ', 'Learn')\n"
          ]
        }
      ]
    },
    {
      "cell_type": "markdown",
      "source": [
        "Length of the list object\n",
        "\n",
        "The total number of element in the list is the length of the list object.The length of the list is found by using the function len().\n",
        "\n",
        "Syntax\n",
        "\n",
        "len(list)"
      ],
      "metadata": {
        "id": "QCrwJ8Uqni3f"
      }
    },
    {
      "cell_type": "code",
      "source": [
        "#Example\n",
        "output_list = ['MAchine', 'Hack', 'Learn', 'Python', 30]\n",
        "print(\"The length of list : \", len(output_list))"
      ],
      "metadata": {
        "colab": {
          "base_uri": "https://localhost:8080/"
        },
        "id": "E2bxtzNpnc0Y",
        "outputId": "8c744f72-acc8-4f22-d625-8089341c208a"
      },
      "execution_count": null,
      "outputs": [
        {
          "output_type": "stream",
          "name": "stdout",
          "text": [
            "The length of list :  5\n"
          ]
        }
      ]
    },
    {
      "cell_type": "markdown",
      "source": [
        "Largest element in a list\n",
        "\n",
        "The largest element in list could be found by using max() in built function. It could be applied whe the element is either contain only string or numeric. It returns the largest element of the list object.\n",
        "\n",
        "syntax\n",
        "\n",
        "max(list)\n"
      ],
      "metadata": {
        "id": "KC1x7uj3oYYb"
      }
    },
    {
      "cell_type": "code",
      "source": [
        "#Example\n",
        "str_list = ['Machine', 'Hack', 'Learn', 'Python']\n",
        "numer_list = [2,2.2,2.87,2.88,2.89]\n",
        "print(\"The largest of string list : \", max(str_list))\n",
        "print(\"The largest of numeric list : \", max(numer_list))"
      ],
      "metadata": {
        "colab": {
          "base_uri": "https://localhost:8080/"
        },
        "id": "YfiB4y_OoWoy",
        "outputId": "3e677235-2f06-4716-accd-9c376e83fcea"
      },
      "execution_count": null,
      "outputs": [
        {
          "output_type": "stream",
          "name": "stdout",
          "text": [
            "The largest of string list :  Python\n",
            "The largest of numeric list :  2.89\n"
          ]
        }
      ]
    },
    {
      "cell_type": "markdown",
      "source": [
        "Adding lists\n",
        "\n",
        "By using the add operator \"+\" two or more lists could be concatenated, the second list would be appended to the initial list from the (n+1) index\n",
        "\n",
        "Syntax\n",
        "\n",
        "list+list+....+list"
      ],
      "metadata": {
        "id": "VpbUy7yxp09-"
      }
    },
    {
      "cell_type": "code",
      "source": [
        "#Example\n",
        "\n",
        "num_list1 = [1,3,4,5]\n",
        "num_list2 = [5,6,7]\n",
        "num_list3 = [8,9,8,7,6]\n",
        "print(num_list1 + num_list2 + num_list3)"
      ],
      "metadata": {
        "colab": {
          "base_uri": "https://localhost:8080/"
        },
        "id": "npEvh1typlv_",
        "outputId": "ad8ade5d-2c74-4104-b79e-f8e4a1f5b864"
      },
      "execution_count": null,
      "outputs": [
        {
          "output_type": "stream",
          "name": "stdout",
          "text": [
            "[1, 3, 4, 5, 5, 6, 7, 8, 9, 8, 7, 6]\n"
          ]
        }
      ]
    },
    {
      "cell_type": "markdown",
      "source": [
        "Iterating through list\n",
        "\n",
        "List objects are iterable which means every element in an list object could iterated using a loop.\n",
        "\n",
        "Syntax\n",
        "\n",
        "for i in list:\n",
        "  print(i)"
      ],
      "metadata": {
        "id": "wugS72NSqwM1"
      }
    },
    {
      "cell_type": "code",
      "source": [
        "#Example\n",
        "for i in str_list:\n",
        "  print(i, end = '|')"
      ],
      "metadata": {
        "colab": {
          "base_uri": "https://localhost:8080/"
        },
        "id": "XlO8QoLjqqcD",
        "outputId": "06188a26-d369-4e0d-e5ba-c21d36b2e2d5"
      },
      "execution_count": null,
      "outputs": [
        {
          "output_type": "stream",
          "name": "stdout",
          "text": [
            "Machine|Hack|Learn|Python|"
          ]
        }
      ]
    },
    {
      "cell_type": "code",
      "source": [],
      "metadata": {
        "id": "s0o-ERa2rUQV"
      },
      "execution_count": null,
      "outputs": []
    }
  ]
}
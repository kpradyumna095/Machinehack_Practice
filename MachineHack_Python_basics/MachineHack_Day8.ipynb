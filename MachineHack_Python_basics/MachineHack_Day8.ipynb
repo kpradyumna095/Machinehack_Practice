{
  "nbformat": 4,
  "nbformat_minor": 0,
  "metadata": {
    "colab": {
      "provenance": []
    },
    "kernelspec": {
      "name": "python3",
      "display_name": "Python 3"
    },
    "language_info": {
      "name": "python"
    }
  },
  "cells": [
    {
      "cell_type": "markdown",
      "source": [
        "\n",
        "\n",
        "30 Days of Python-MachineHack\n",
        "\n",
        "DAY 8 Collections\n"
      ],
      "metadata": {
        "id": "tmdC3oDJZ3iq"
      }
    },
    {
      "cell_type": "markdown",
      "source": [
        "Collections\n",
        "\n",
        "Python's collections module offers a diverse number of specialised  conatianer data types deliberately built to handle various programming challeges in a pythonic and effiecient manner. The module includes wrapper classes for creating new classes thet perform similarly to the built in types dict, list, and str. In collection, there are six most used data types defaultdict, counter , ordereddict, chained map , named tuple, and deque."
      ],
      "metadata": {
        "id": "x8RXp8oCcRQl"
      }
    },
    {
      "cell_type": "markdown",
      "source": [
        "Collection data types\n",
        "\n",
        "here are the six most used data types from the collections module.\n",
        "\n",
        "defaultDict\n",
        "\n",
        "Defaultdict is exactly like a dictionary in python. The only difference is that it does not give an exception key. The function object is teken as the first argument by the constructor. when the misssing key is accessed, defaultdict invokes that function without parameters to provide an appropriate default value for the key at hand. To offer its functionality, defaultdict saves the input function in the \"default factory\" parameter and then overrides the \"missing\" class to run the function and provide a default value when any missing keys are accessed. It returns a dictinary object.\n",
        "\n",
        "Syntax\n",
        "\n",
        "class collections.defaultdict(default_factory= None, /[, ...]\n"
      ],
      "metadata": {
        "id": "Z9nvsDWPd9Lw"
      }
    },
    {
      "cell_type": "markdown",
      "source": [
        "Example\n",
        "\n",
        "To use the defaultdict we need to import it from the collections module"
      ],
      "metadata": {
        "id": "c0T7tEPyf6ns"
      }
    },
    {
      "cell_type": "code",
      "execution_count": null,
      "metadata": {
        "id": "U24_rnbWZzBO"
      },
      "outputs": [],
      "source": [
        "from collections import defaultdict"
      ]
    },
    {
      "cell_type": "markdown",
      "source": [
        "Once the defaultdict is imported, then define a variable and assign the initialize the defaultdict by assigning it to the variable. Then just like a dictionary, add values to the dictionary by using the indexing technique.\n",
        "Use the desired key and assign the value inplace of the index. In the below example, a dictionary is created, which will take the count of types of bank accounts."
      ],
      "metadata": {
        "id": "xEpPil6jgL-a"
      }
    },
    {
      "cell_type": "code",
      "source": [
        "accounts = defaultdict(int)\n",
        "accounts[\"savings\"] += 1\n",
        "accounts[\"savings\"] += 1\n",
        "accounts[\"savings\"] += 1\n",
        "accounts[\"current\"] += 1\n",
        "accounts[\"CASA\"] += 1\n",
        "accounts[\"CASA\"] += 1\n",
        "print(accounts)"
      ],
      "metadata": {
        "colab": {
          "base_uri": "https://localhost:8080/"
        },
        "id": "_mdfIFm5gJ28",
        "outputId": "649fa68f-f0ec-4318-b825-4c9332a97ee8"
      },
      "execution_count": null,
      "outputs": [
        {
          "output_type": "stream",
          "name": "stdout",
          "text": [
            "defaultdict(<class 'int'>, {'savings': 3, 'current': 1, 'CASA': 2})\n"
          ]
        }
      ]
    },
    {
      "cell_type": "markdown",
      "source": [
        "Counter\n",
        "\n",
        "A counter is a built in data structure that counts the occurences of each item in an array or list. A counter is a dictionary subclass. It creates an unordered dictionary in which the key represents the iterable element, and the value reflects the count of that iterable element. the counter does not throw an exception when a missing key is accessed ; it reflects a default value. It returns a dictionary object.\n",
        "\n",
        "Syntax\n",
        "\n",
        "class collections.Counter([iterable-or-mapping])"
      ],
      "metadata": {
        "id": "iOgo6H9ghvA0"
      }
    },
    {
      "cell_type": "markdown",
      "source": [
        "#Example\n",
        "\n",
        "Initially, accessing the counter needed to be imported from thr collections module by using the following line of code."
      ],
      "metadata": {
        "id": "m5PuzGe0i1Js"
      }
    },
    {
      "cell_type": "code",
      "source": [
        "from collections import Counter"
      ],
      "metadata": {
        "id": "RCdd0iNYhrug"
      },
      "execution_count": null,
      "outputs": []
    },
    {
      "cell_type": "markdown",
      "source": [
        "Inthe below example,  a list is created which contains different types of bank account. A list is iterable, so it could be used as an argument for the counter because the counter requires an iterable to calculate the frequency of the elements."
      ],
      "metadata": {
        "id": "CDr62NuCjLpC"
      }
    },
    {
      "cell_type": "code",
      "source": [
        "accounts = ['savings', 'savings', 'CASA', 'current', 'CASA', 'Savings']\n",
        "result = Counter(accounts)\n",
        "print(result)"
      ],
      "metadata": {
        "colab": {
          "base_uri": "https://localhost:8080/"
        },
        "id": "7vWTMFqDjIlS",
        "outputId": "9e22c29a-97f1-49b1-948b-4d91727f63a8"
      },
      "execution_count": null,
      "outputs": [
        {
          "output_type": "stream",
          "name": "stdout",
          "text": [
            "Counter({'savings': 2, 'CASA': 2, 'current': 1, 'Savings': 1})\n"
          ]
        }
      ]
    },
    {
      "cell_type": "markdown",
      "source": [
        "Orderdict\n",
        "\n",
        "Orderdict is a dictionary that ensures its order is maintained. Since a dicyionary is an unordered datatype, this data type was created to keep the order of the input elements. For example, the order is maintained if the keys are inserted in sppecific order. even if the value of the key is changes or updated, the position will remain the same. It returns a dictionary object.\n",
        "\n",
        "Syntax\n",
        "\n",
        "class collections.OrderedDict([items])"
      ],
      "metadata": {
        "id": "YGU6k3X4kC09"
      }
    },
    {
      "cell_type": "markdown",
      "source": [
        "#Example\n",
        "\n",
        "To create an oordred dictionary, import OrderDict from the collection module. the operation is the same as the dictionary. Initialize the OrderDict() by assigning it to a variable the use indexing to add data to the dictionary."
      ],
      "metadata": {
        "id": "H1fjCx3qk-Fr"
      }
    },
    {
      "cell_type": "code",
      "source": [
        "from collections import OrderedDict\n",
        "order_dict = OrderedDict()\n",
        "order_dict['a'] = 40\n",
        "order_dict['b'] = 50\n",
        "order_dict['c'] = 30\n",
        "order_dict['d'] = 20\n",
        "print(\"Ordered dictionary\", order_dict)"
      ],
      "metadata": {
        "colab": {
          "base_uri": "https://localhost:8080/"
        },
        "id": "vOqK6BOGj_KV",
        "outputId": "5b0428b4-4dc7-45df-c65f-351d1d4d9dd5"
      },
      "execution_count": null,
      "outputs": [
        {
          "output_type": "stream",
          "name": "stdout",
          "text": [
            "Ordered dictionary OrderedDict([('a', 40), ('b', 50), ('c', 30), ('d', 20)])\n"
          ]
        }
      ]
    },
    {
      "cell_type": "markdown",
      "source": [
        "Chained Map\n",
        "\n",
        "Chainmap combines a lot of dictionaries together and returns a list of dictionaries. ChainMaps basically encapsulates a lot of dictionaries into one single unit with no restriction onthe number of dictionaries.\n",
        "\n",
        "Syntax\n",
        "\n",
        "class collection.ChainMap(*dict1,dict2,....dictn)"
      ],
      "metadata": {
        "id": "-t6A5zgxmIDu"
      }
    },
    {
      "cell_type": "code",
      "source": [
        "#Example\n",
        "from collections import ChainMap\n",
        "dict_1 = {'112': 'savings', '113': 'CASA'}\n",
        "dict_2 = {'212': 'current', '213': 'savings'}\n",
        "dict_3 = {\"312\": 'CASA', '313': 'CASA'}\n",
        "combinations = ChainMap(dict_1, dict_2, dict_3)\n",
        "print(combinations.maps)"
      ],
      "metadata": {
        "colab": {
          "base_uri": "https://localhost:8080/"
        },
        "id": "4CDNOPQKmGTZ",
        "outputId": "a750cdfe-6675-4c78-b399-3ac1b0c449c8"
      },
      "execution_count": null,
      "outputs": [
        {
          "output_type": "stream",
          "name": "stdout",
          "text": [
            "[{'112': 'savings', '113': 'CASA'}, {'212': 'current', '213': 'savings'}, {'312': 'CASA', '313': 'CASA'}]\n"
          ]
        }
      ]
    },
    {
      "cell_type": "markdown",
      "source": [
        "Named Tuple\n",
        "\n",
        "Usual tuples need to remember the index of each field of a tuple object. However, namedtuple() solves this by simply returning names for each position in the tuple. This is especially true in cases when the tuple has several items and is constructed far away fromthe current directory. For Example, consider a function divmod that takes two real numbers and returns a tuple with the quotient and remainder, obtained by dividing the real numbers. The tuple returned hjust contains the values, and no label is attached, makin it difficult to interpret.\n",
        "\n",
        "Synatx\n",
        "\n",
        "class collections.namedtuple(typename, filed_names)"
      ],
      "metadata": {
        "id": "HmQcWMgDnwnP"
      }
    },
    {
      "cell_type": "markdown",
      "source": [
        "the typename would be the name of the newly generated tuple, and the field_names are the index or the keys, just like a dictionary.\n"
      ],
      "metadata": {
        "id": "cz222BhMpLCv"
      }
    },
    {
      "cell_type": "code",
      "source": [
        "#Example\n",
        "from collections import namedtuple\n",
        "account = namedtuple('Details', 'First_name, Last_name, account_type')\n",
        "account_info_1 = account('Sourabh', 'Mehta', \"Savings\")\n",
        "account_info_2 = account('Machine', 'Hack', 'Current')\n",
        "print(\"First name of the customer: \", account_info_1.First_name,\n",
        "      \"\\nAccount type of customer:\", account_info_2.account_type)"
      ],
      "metadata": {
        "colab": {
          "base_uri": "https://localhost:8080/"
        },
        "id": "6Sc1Op9dnkRl",
        "outputId": "750bd710-971d-431e-dbc4-46641a1340d8"
      },
      "execution_count": null,
      "outputs": [
        {
          "output_type": "stream",
          "name": "stdout",
          "text": [
            "First name of the customer:  Sourabh \n",
            "Account type of customer: Current\n"
          ]
        }
      ]
    },
    {
      "cell_type": "markdown",
      "source": [
        "Deque\n",
        "\n",
        "Deque is a list thet is optimised for inserting and deleting entries. It can add or remove items from the list's beginning or finish. Since appending and popping an element from a list is ieffiecient. Because python needs to shift the elements to the right to append a new element, these actions are especially costly when working with longer lists.\n",
        "\n",
        "Syntax\n",
        "\n",
        "class collections.deque([iterable[, maxlen]])"
      ],
      "metadata": {
        "id": "YB7cAYLHqrsp"
      }
    },
    {
      "cell_type": "code",
      "source": [
        "#Example\n",
        "from collections import deque\n",
        "input = ['Machine', 'Hack', 'Current']\n",
        "fast = deque(input)\n",
        "fast.append(\"Python\")\n",
        "fast.appendleft(\"30 days\")\n",
        "print(\"Appended list:\", fast)\n",
        "fast.pop()\n",
        "fast.popleft()\n",
        "print(\"Popped element:\", fast)"
      ],
      "metadata": {
        "colab": {
          "base_uri": "https://localhost:8080/"
        },
        "id": "hm8_8h0cqeiv",
        "outputId": "4a8ee5d3-9b54-431c-ad7e-2c21b20a02a7"
      },
      "execution_count": null,
      "outputs": [
        {
          "output_type": "stream",
          "name": "stdout",
          "text": [
            "Appended list: deque(['30 days', 'Machine', 'Hack', 'Current', 'Python'])\n",
            "Popped element: deque(['Machine', 'Hack', 'Current'])\n"
          ]
        }
      ]
    },
    {
      "cell_type": "code",
      "source": [],
      "metadata": {
        "id": "FwLfcvOhsUyR"
      },
      "execution_count": null,
      "outputs": []
    }
  ]
}